{
 "cells": [
  {
   "cell_type": "code",
   "execution_count": 1,
   "metadata": {},
   "outputs": [
    {
     "data": {
      "text/html": [
       "<style>.container { width:75% !important; }</style>"
      ],
      "text/plain": [
       "<IPython.core.display.HTML object>"
      ]
     },
     "metadata": {},
     "output_type": "display_data"
    }
   ],
   "source": [
    "import pandas as pd\n",
    "import numpy as np\n",
    "import warnings\n",
    "import pickle\n",
    "import argparse\n",
    "import os\n",
    "import copy\n",
    "\n",
    "import torch\n",
    "from gym import Env\n",
    "from gym import spaces\n",
    "\n",
    "warnings.filterwarnings('ignore')\n",
    "np.set_printoptions(suppress=True, formatter={'float': lambda x: \"{0:0.5f}\".format(x)})\n",
    "from IPython.core.display import display, HTML\n",
    "display(HTML(\"<style>.container { width:75% !important; }</style>\"))"
   ]
  },
  {
   "cell_type": "markdown",
   "metadata": {},
   "source": [
    "# Arguments"
   ]
  },
  {
   "cell_type": "code",
   "execution_count": 3,
   "metadata": {},
   "outputs": [
    {
     "name": "stdout",
     "output_type": "stream",
     "text": [
      "Namespace(epochs=300, episodes=100, lr=0.005, wd=0.0001, seed=3, model_name='PPO', gamma=0.99, latent1=256, latent2=256, control_size=20, gene_size=100, beacon_size=60, victim_prob=0.8, pop_reset_freq=10, max_queries=10, state_dim=(4,), n_actions=1, resume='', save_dir='./', results_dir='./', device=device(type='cuda'))\n"
     ]
    }
   ],
   "source": [
    "# @title Arguments\n",
    "parser = argparse.ArgumentParser(description='Actor Critic')\n",
    "\n",
    "parser.add_argument('--epochs', default=300, type=int, metavar='N', help='Number of epochs for training agent.')\n",
    "parser.add_argument('--episodes', default=100, type=int, metavar='N', help='Number of episodes for training agent.')\n",
    "parser.add_argument('--lr', '--learning-rate', default=0.005, type=float, metavar='LR', help='initial learning rate', dest='lr')\n",
    "parser.add_argument('--wd', default=0.0001, type=float, help='Weight decay for training optimizer')\n",
    "parser.add_argument('--seed', default=3, type=int, help='Seed for reproducibility')\n",
    "parser.add_argument('--model-name', default=\"PPO\", type=str, help='Model name for saving model.')\n",
    "parser.add_argument('--gamma', default=0.99, type=float, metavar='N', help='The discount factor as mentioned in the previous section')\n",
    "\n",
    "# Model\n",
    "parser.add_argument(\"--latent1\", default=256, required=False, help=\"Latent Space Size for first layer of network.\")\n",
    "parser.add_argument(\"--latent2\", default=256, required=False, help=\"Latent Space Size for second layer of network.\")\n",
    "\n",
    "# Env Properties\n",
    "parser.add_argument('--control_size', default=20, type=int, help='Beacon and Attacker Control group size')\n",
    "parser.add_argument('--gene_size', default=100, type=int, help='States gene size')\n",
    "parser.add_argument('--beacon_size', default=60, type=int, help='Beacon population size')\n",
    "parser.add_argument('--victim_prob', default=0.8, type=float, help='Victim inside beacon or not!')\n",
    "parser.add_argument('--pop_reset_freq', default=10, type=int, help='Reset Population Frequency (Epochs)')\n",
    "parser.add_argument('--max_queries', default=10, type=int, help='Maximum queries per episode')\n",
    "\n",
    "\n",
    "parser.add_argument(\"--state_dim\", default=(4,), required=False, help=\"State Dimension\")\n",
    "parser.add_argument(\"--n-actions\", default=1, required=False, help=\"Actions Count for each state\")\n",
    "\n",
    "\n",
    "# utils\n",
    "parser.add_argument('--resume', default=\"\", type=str, metavar='PATH', help='path to latest checkpoint (default: none)')\n",
    "parser.add_argument('--save-dir', default='', type=str, metavar='PATH', help='path to cache (default: none)')\n",
    "\n",
    "# args = parser.parse_args()  # running in command line\n",
    "args = parser.parse_args('')  # running in ipynb\n",
    "\n",
    "# set command line arguments here when running in ipynb\n",
    "if args.save_dir == '':\n",
    "    args.save_dir = \"./\"\n",
    "\n",
    "args.results_dir = args.save_dir\n",
    "\n",
    "args.device = torch.device(\"cuda\" if torch.cuda.is_available() else \"cpu\")\n",
    "\n",
    "print(args)"
   ]
  },
  {
   "cell_type": "markdown",
   "metadata": {},
   "source": [
    "# Read Data"
   ]
  },
  {
   "cell_type": "code",
   "execution_count": 4,
   "metadata": {},
   "outputs": [],
   "source": [
    "mainPath = \"/mnt/kerem/CEU\""
   ]
  },
  {
   "cell_type": "code",
   "execution_count": 5,
   "metadata": {},
   "outputs": [],
   "source": [
    "# CEU Beacon - it contains 164 people in total which we will divide into groups to experiment\n",
    "beacon = pd.read_csv(os.path.join(mainPath, \"Beacon_164.txt\"), index_col=0, delim_whitespace=True)\n",
    "# Reference genome, i.e. the genome that has no SNPs, all major allele pairs for each position\n",
    "reference = pickle.load(open(os.path.join(mainPath, \"reference.pickle\"),\"rb\"))\n",
    "# Binary representation of the beacon; 0: no SNP (i.e. no mutation) 1: SNP (i.e. mutation)\n",
    "binary = np.logical_and(beacon.values != reference, beacon.values != \"NN\").astype(int)"
   ]
  },
  {
   "cell_type": "code",
   "execution_count": 6,
   "metadata": {},
   "outputs": [],
   "source": [
    "# Table that contains MAF (minor allele frequency) values for each position. \n",
    "maf = pd.read_csv(os.path.join(mainPath, \"MAF.txt\"), index_col=0, delim_whitespace=True)\n",
    "maf.rename(columns = {'referenceAllele':'major', 'referenceAlleleFrequency':'major_freq', \n",
    "                      'otherAllele':'minor', 'otherAlleleFrequency':'minor_freq'}, inplace = True)\n",
    "maf[\"maf\"] = np.round(maf[\"maf\"].values, 3)\n",
    "# Same variable with sorted maf values\n",
    "sorted_maf = maf.sort_values(by='maf')\n",
    "# Extracting column to an array for future use\n",
    "maf_values = maf[\"maf\"].values"
   ]
  },
  {
   "cell_type": "code",
   "execution_count": 7,
   "metadata": {},
   "outputs": [
    {
     "data": {
      "text/plain": [
       "((4029840, 164), (4029840, 1), (4029840, 164), (4029840,))"
      ]
     },
     "execution_count": 7,
     "metadata": {},
     "output_type": "execute_result"
    }
   ],
   "source": [
    "beacon.shape, reference.shape, binary.shape, maf_values.shape"
   ]
  },
  {
   "cell_type": "markdown",
   "metadata": {},
   "source": [
    "# Environment"
   ]
  },
  {
   "cell_type": "code",
   "execution_count": 9,
   "metadata": {},
   "outputs": [
    {
     "ename": "SyntaxError",
     "evalue": "unmatched ')' (710542715.py, line 8)",
     "output_type": "error",
     "traceback": [
      "\u001b[0;36m  Cell \u001b[0;32mIn[9], line 8\u001b[0;36m\u001b[0m\n\u001b[0;31m    self.init_beacon_size = args.beacon_sizee)\u001b[0m\n\u001b[0m                                             ^\u001b[0m\n\u001b[0;31mSyntaxError\u001b[0m\u001b[0;31m:\u001b[0m unmatched ')'\n"
     ]
    }
   ],
   "source": [
    "class BeaconEnv(Env):\n",
    "    def __init__(self, args, beacon, maf):\n",
    "        super(BeaconEnv, self).__init__()\n",
    "\n",
    "        self.beacon=beacon\n",
    "        self.maf=maf\n",
    "        self.args=copy.copy(args)\n",
    "        self.init_beacon_size = args.beacon_size\n",
    "\n",
    "        # Randomly set populations and genes\n",
    "        self.s_beacon, self.s_control, self.a_control, self.victim, self.mafs = self.get_populations()\n",
    "        self.reset_counter = 0\n",
    "\n",
    "        # Initialize the agents\n",
    "        self._init_attacker()\n",
    "        self._init_beacon()\n",
    "        \n",
    "        print(self.attacker_state.size())\n",
    "        print(self.beacon_state.size())\n",
    "\n",
    "\n",
    "        # Define action and observation space\n",
    "        self.action_space = spaces.Box(low=0, high=1, shape=(1,))  # Beacon lies or not\n",
    "        self.observation_space = spaces.Box(shape=(args.beacon_size, args.gene_size, 3))  # State: [Beacon Size, Gene size, 3(SNP, MAF, RES)]\n",
    "        self.max_steps = args.max_queries  # Maximum number of steps per episode\n",
    "        self.current_step = 0\n",
    "\n",
    "    # Reset the environment after an episode\n",
    "    def reset(self) -> torch.Tensor:\n",
    "        self.reset_counter+=1\n",
    "        if self.reset_counter==self.args.pop_reset_freq:\n",
    "            self._reset_populations()\n",
    "\n",
    "        # Reset the states of our agents\n",
    "        self._init_attacker()\n",
    "        self._init_beacon()\n",
    "        \n",
    "        self.current_step = 0\n",
    "        return self.attacker_state, self.beacon_state\n",
    "\n",
    "    def step(self, action): \n",
    "\n",
    "        # TODO: Change the states of agent according to the action \n",
    "\n",
    "        observation = \"NEXT STATE\"\n",
    "\n",
    "        # Change the res of the asked gene to 1 in the state of beacon\n",
    "\n",
    "\n",
    "\n",
    "        # TODO: Calculate rewards for agent (Beacon)\n",
    "\n",
    "        reward = \"REWARD\"\n",
    "\n",
    "        # Calculate the lrt for individuals in the beacon and find the min \n",
    "        # reward = min(lrt) \n",
    "\n",
    "\n",
    "\n",
    "        # TODO: Also add the identification : if attacker can identify the member then game will be done\n",
    "        self.current_step += 1\n",
    "        if self.current_step >= self.max_steps:\n",
    "            done = True\n",
    "\n",
    "        \n",
    "        return observation, reward, done, {}\n",
    "\n",
    "    def _reset_populations(self)->None:\n",
    "        self.s_beacon, self.s_control, self.a_control, self.victim, self.mafs = self.get_populations()\n",
    "\n",
    "            # Initilize the attacker states\n",
    "    def _init_attacker(self)->None:\n",
    "        self.attacker_state = torch.tensor([self.victim, [0]*len(self.victim), self.mafs], dtype=torch.float32).transpose(0, 1)\n",
    "        total_snps = self.attacker_state[:, 0].sum().item()\n",
    "        print(\"There are {} SNPs\".format(total_snps))\n",
    "\n",
    "    # Initilize the beacon states\n",
    "    def _init_beacon(self)->None:\n",
    "        temp_maf = torch.Tensor(self.mafs).unsqueeze(0).expand(self.args.beacon_size, -1)\n",
    "        responses = torch.zeros(size=(self.args.beacon_size, self.args.gene_size))\n",
    "        print(temp_maf.size(), responses.size(), torch.Tensor(self.s_beacon.T).size())\n",
    "        self.beacon_state = torch.stack([torch.Tensor(self.s_beacon.T), temp_maf, responses], dim=-1)\n",
    "\n",
    "    # Defining the populations and genes randomly\n",
    "    def get_populations(self):\n",
    "        self.args.beacon_size = self.init_beacon_size # Handling the one extra victim in the beacon\n",
    "        # Prepare index arrays for future use\n",
    "        genes = np.random.permutation(self.beacon.shape[0])[:self.args.gene_size] # Randomly select gene indexes\n",
    "        shuffled = np.random.permutation(self.beacon.shape[1]) # Randomly select population indexes\n",
    "\n",
    "\n",
    "        # Difine different groups of people\n",
    "        victim_ind = shuffled[0]\n",
    "        a_cind = shuffled[1:1+self.args.control_size]\n",
    "        s_cind = shuffled[41:61]\n",
    "        s_ind = shuffled[80:140]\n",
    "\n",
    "\n",
    "        if np.random.random() < self.args.victim_prob:\n",
    "            print(\"Victim is inside the Beacon!\")\n",
    "            s_ind = np.append(s_ind, victim_ind)\n",
    "            s_beacon = binary[:, s_ind][genes, :] # Victim inside beacon\n",
    "            self.args.beacon_size += 1 # Handling the one extra victim in the beacon\n",
    "        else: \n",
    "            print(\"Victim is NOT inside the Beacon!\")\n",
    "            s_beacon = binary[:, s_ind][genes, :]\n",
    "\n",
    "        a_control = binary[:, a_cind][genes, :]\n",
    "        s_control = binary[:, s_cind][genes, :]\n",
    "        victim = binary[:, victim_ind][genes]\n",
    "        return s_beacon, s_control, a_control, victim, self.maf[genes]\n"
   ]
  },
  {
   "cell_type": "code",
   "execution_count": null,
   "metadata": {},
   "outputs": [],
   "source": []
  }
 ],
 "metadata": {
  "kernelspec": {
   "display_name": "Python 3",
   "language": "python",
   "name": "python3"
  },
  "language_info": {
   "codemirror_mode": {
    "name": "ipython",
    "version": 3
   },
   "file_extension": ".py",
   "mimetype": "text/x-python",
   "name": "python",
   "nbconvert_exporter": "python",
   "pygments_lexer": "ipython3",
   "version": "3.12.1"
  }
 },
 "nbformat": 4,
 "nbformat_minor": 2
}
