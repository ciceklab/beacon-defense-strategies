{
 "cells": [
  {
   "cell_type": "code",
   "execution_count": 2,
   "metadata": {},
   "outputs": [
    {
     "data": {
      "text/html": [
       "<style>.container { width:75% !important; }</style>"
      ],
      "text/plain": [
       "<IPython.core.display.HTML object>"
      ]
     },
     "metadata": {},
     "output_type": "display_data"
    }
   ],
   "source": [
    "import pandas as pd\n",
    "import numpy as np\n",
    "import random\n",
    "import math\n",
    "import itertools\n",
    "import warnings\n",
    "import pickle\n",
    "import gc\n",
    "import sys\n",
    "import matplotlib.pyplot as plt\n",
    "from os.path import join, exists\n",
    "from collections import Counter, defaultdict\n",
    "from scipy.special import gamma\n",
    "from itertools import permutations, combinations, combinations_with_replacement, product\n",
    "import timeit\n",
    "import multiprocessing\n",
    "import tqdm\n",
    "import time\n",
    "warnings.filterwarnings('ignore')\n",
    "np.set_printoptions(suppress=True, formatter={'float': lambda x: \"{0:0.5f}\".format(x)})\n",
    "from IPython.core.display import display, HTML\n",
    "display(HTML(\"<style>.container { width:75% !important; }</style>\"))"
   ]
  },
  {
   "cell_type": "markdown",
   "metadata": {},
   "source": [
    "### Step 1: Load Beacon, MAF, Reference and other cached variables"
   ]
  },
  {
   "cell_type": "code",
   "execution_count": 3,
   "metadata": {},
   "outputs": [],
   "source": [
    "# Replace it with the main folder\n",
    "mainPath = \"./data\"\n",
    "np.random.seed(2024)"
   ]
  },
  {
   "cell_type": "code",
   "execution_count": 4,
   "metadata": {},
   "outputs": [],
   "source": [
    "# CEU Beacon - it contains 164 people in total which we will divide into groups to experiment\n",
    "beacon = pd.read_csv(join(mainPath, \"Beacon_164.txt\"), index_col=0, delim_whitespace=True)\n",
    "\n",
    "# Reference genome, i.e. the genome that has no SNPs, all major allele pairs for each position\n",
    "reference = pickle.load(open(join(mainPath, \"reference.pickle\"),\"rb\"))\n",
    "\n",
    "# Binary representation of the beacon; 0: no SNP (i.e. no mutation) 1: SNP (i.e. mutation)\n",
    "binary = np.logical_and(beacon.values != reference, beacon.values != \"NN\").astype(int) \n",
    "\n",
    "# Table that contains MAF (minor allele frequency) values for each position. \n",
    "maf = pd.read_csv(join(mainPath, \"MAF.txt\"), index_col=0, delim_whitespace=True)\n",
    "maf.rename(columns = {'referenceAllele':'major', 'referenceAlleleFrequency':'major_freq', \n",
    "                      'otherAllele':'minor', 'otherAlleleFrequency':'minor_freq'}, inplace = True)\n",
    "maf[\"maf\"] = np.round(maf[\"maf\"].values, 3)\n",
    "\n",
    "\n",
    "# Same variable with sorted maf values\n",
    "sorted_maf = maf.sort_values(by='maf')\n",
    "\n",
    "# Extracting column to an array for future use\n",
    "maf_values = maf[\"maf\"].values\n",
    "\n",
    "# Prepare index arrays for future use\n",
    "# beacon_people = np.arange(65)\n",
    "# other_people = np.arange(99)+65\n",
    "all_people = np.arange(164)"
   ]
  },
  {
   "cell_type": "code",
   "execution_count": 5,
   "metadata": {},
   "outputs": [],
   "source": [
    "# MAF values are calculated from a small subset they might be 0. \n",
    "# This does not mean they are not seen in anybody in the world so we are replacing 0 MAF values with 0.001 which is a pretty rare value\n",
    "maf[\"maf\"] = maf[\"maf\"].apply(lambda x: 0.001 if x == 0 else x)\n",
    "maf_values = maf[\"maf\"].values"
   ]
  },
  {
   "cell_type": "markdown",
   "metadata": {},
   "source": [
    "#### Build beacons, control groups and select victim\n",
    "Construct beacons and the victim. Here randomly select;\n",
    "1. A single victim\n",
    "2. 20 control group people for attacker to calculate LRT values\n",
    "3. 20 control group people for sharer to calculate LRT values\n",
    "4. 60 people beacon for sharer"
   ]
  },
  {
   "cell_type": "code",
   "execution_count": 6,
   "metadata": {},
   "outputs": [],
   "source": [
    "shuffled = np.random.permutation(all_people)\n",
    "\n",
    "victim_ind = shuffled[0]\n",
    "a_cind = shuffled[1:21]\n",
    "s_cind = shuffled[41:61]\n",
    "\n",
    "s_ind = shuffled[81:140]\n",
    "\n",
    "s_beacon = binary[:, np.concatenate([s_ind,np.array([victim_ind])])] # Victim inside beacon\n",
    "\n",
    "a_control = binary[:, a_cind]\n",
    "s_control = binary[:, s_cind]\n",
    "\n",
    "victim = binary[:, victim_ind]\n",
    "\n",
    "randomness_id = np.random.rand()"
   ]
  },
  {
   "cell_type": "code",
   "execution_count": 7,
   "metadata": {},
   "outputs": [
    {
     "name": "stdout",
     "output_type": "stream",
     "text": [
      "0.7973871717092873\n"
     ]
    },
    {
     "data": {
      "text/plain": [
       "array([138,  75,  21, 118, 146,  49, 123,  70, 151, 159,  34, 154,  15,\n",
       "       113,  40,  80,  30,  83,  93,  84,  17,  56, 129, 158, 131,  25,\n",
       "        37,  26,  76, 115, 134,  44,   4,   5,  14,  79,  35,  98, 144,\n",
       "        88, 101, 161,  19,  82,  52,  46,  23,  10,  24,  16,  81,  89,\n",
       "        71, 140, 124,  87,   6, 147,  78,  72,  32, 106,  38, 143, 148,\n",
       "         9,  68, 116,  51,  99, 135,  47,  85, 141,  67,   3,  58, 105,\n",
       "       100,  20,   2, 117, 108,  62, 130, 109,  50, 122,  92,  12,  64,\n",
       "       125, 163,  33,   1, 120,  65,  45, 156, 107, 150,  29, 112, 157,\n",
       "       103,  63, 152, 121,  59, 149, 142,  22,  77,  43,   0,  55, 162,\n",
       "        13,  94,  53, 104,  48,   7, 155,  90, 139,  18,   8, 126, 133,\n",
       "       137,  57, 132, 145,  61,  69, 119,  86, 160,  97,  31,  42, 102,\n",
       "        73, 114,  54,  39,  91,  28,  11, 153,  95, 110, 111,  66,  74,\n",
       "        60, 127,  41,  36,  27, 128,  96, 136])"
      ]
     },
     "execution_count": 7,
     "metadata": {},
     "output_type": "execute_result"
    }
   ],
   "source": [
    "print(f'{randomness_id}')\n",
    "shuffled"
   ]
  },
  {
   "cell_type": "markdown",
   "metadata": {},
   "source": [
    "#### Our first trick; pre-compute!\n",
    "For each individual we are going to experiment with, pre-compute the n-th order SNP for the first 200 order (0<n<201)\n",
    "This means we will have the index of first 200 rarest SNPs sorted by MAF for each individual, namely control groups for sharer and attacker and beacon\n",
    "\n",
    "**Why this is useful?**\n",
    "\n",
    "When attacker asks the n'th rarest SNP of the victim, in order to calculate LRT values from control group he needs to calculate it for each indiviual in control from their n'th rarest SNP. \n",
    "Note that those SNPs might be different for each person in control.\n",
    "Same for sharer, when calculating LRT for each donor in beacon he needs to calculate the value from the same order SNP.\n",
    "\n",
    "For example; if attacker asked 5th, 10th and 7th rarest SNPs of the victim, then he needs 5th, 10th, 7th rarest SNPs of each person in control group so that he can compare those LRT values to calculate a p-value.\n",
    "Same applies to sharer while calculating LRT for donors. Sharer calculates an LRT seperately for each donor\n",
    "\n",
    "Finally, we do the same for the places with 0 value (no mutation), but this time we pre-compute n'th most common SNP for each individual. \n",
    "So output control_targets is a map where;\n",
    "- control_targets[0] contains 200 most common SNPs\n",
    "- control_targets[1] contains 200 rarest SNPs"
   ]
  },
  {
   "cell_type": "code",
   "execution_count": 8,
   "metadata": {},
   "outputs": [],
   "source": [
    "victim_snps = {0: {}, 1: {}}\n",
    "victim_snps[1] = sorted_maf.loc[sorted_maf.index.isin(np.where(victim)[0])][\"maf\"]\n",
    "victim_snps[0] = sorted_maf.loc[~sorted_maf.index.isin(np.where(victim)[0])][\"maf\"][::-1]"
   ]
  },
  {
   "cell_type": "code",
   "execution_count": 9,
   "metadata": {},
   "outputs": [],
   "source": [
    "donors_snps = []\n",
    "for i in range(s_beacon.shape[1]):\n",
    "    donor_snps = {0: {}, 1: {}}\n",
    "    donor_snps[1] = sorted_maf.loc[sorted_maf.index.isin(np.where(s_beacon[:, i])[0])][\"maf\"]\n",
    "    donor_snps[0] = sorted_maf.loc[~sorted_maf.index.isin(np.where(s_beacon[:, i])[0])][\"maf\"][::-1]\n",
    "    donors_snps.append(donor_snps)"
   ]
  },
  {
   "cell_type": "markdown",
   "metadata": {},
   "source": [
    "#### Precomputation of Control Target SNPs"
   ]
  },
  {
   "cell_type": "code",
   "execution_count": 10,
   "metadata": {},
   "outputs": [],
   "source": [
    "def target_precompute_order(control_genome):\n",
    "    control_snps = {0: {}, 1: {}}\n",
    "    for i in range(control_genome.shape[1]):\n",
    "        control_snps[1][i] = sorted_maf.loc[sorted_maf.index.isin(np.where(control_genome[:, i])[0])][\"maf\"]\n",
    "        control_snps[0][i] = sorted_maf.loc[~sorted_maf.index.isin(np.where(control_genome[:, i])[0])][\"maf\"][::-1]\n",
    "   \n",
    "    control_size = control_genome.shape[1]\n",
    "    control_targets = defaultdict(lambda: np.zeros((control_size, 2), dtype=int))\n",
    "    \n",
    "    # TODO: make these loops parallel\n",
    "    for mv in range(0,200):\n",
    "        for i in range(control_size):\n",
    "            for genome_value in range(2):\n",
    "                while True:\n",
    "                    target_maf = np.unique(control_snps[genome_value][i])[mv]\n",
    "                    pos = control_snps[genome_value][i].values == target_maf\n",
    "                    if pos.any():\n",
    "                        break\n",
    "                control_targets[mv][i][genome_value] = np.random.choice(control_snps[genome_value][i][pos].index.values, 1)[0]\n",
    "        print(\"Order \", mv, \" is done!\")\n",
    "    return control_targets"
   ]
  },
  {
   "cell_type": "code",
   "execution_count": 11,
   "metadata": {},
   "outputs": [],
   "source": [
    "def get_target_precompute_order(control_genome, cache_path: str):\n",
    "    control_size = control_genome.shape[1]\n",
    "    \n",
    "    # Read from cache\n",
    "    if exists(cache_path):\n",
    "        print(f'Loaded cache: {cache_path}')\n",
    "        data = pickle.load(open(cache_path, 'rb'))\n",
    "        \n",
    "        return defaultdict(lambda: np.zeros((control_size, 2), dtype=int), data)\n",
    "        \n",
    "    targets = target_precompute_order(control_genome) \n",
    "    \n",
    "    # Write to cache\n",
    "    with open(cache_path, 'wb') as handle:\n",
    "        pickle.dump(dict(targets), handle, protocol=pickle.HIGHEST_PROTOCOL)\n",
    "        \n",
    "    return targets"
   ]
  },
  {
   "cell_type": "code",
   "execution_count": 12,
   "metadata": {
    "scrolled": true
   },
   "outputs": [
    {
     "name": "stdout",
     "output_type": "stream",
     "text": [
      "Loaded cache: /data1/masoud/DP_Project/pickles/s_control_targets_0.7973871717092873.pkl\n",
      "Loaded cache: /data1/masoud/DP_Project/pickles/a_control_targets_0.7973871717092873.pkl\n",
      "Loaded cache: /data1/masoud/DP_Project/pickles/donor_targets_0.7973871717092873.pkl\n"
     ]
    }
   ],
   "source": [
    "s_control_targets_pickle_dir = f\"/data1/masoud/DP_Project/pickles/s_control_targets_{randomness_id}.pkl\"\n",
    "a_control_targets_pickle_dir = f\"/data1/masoud/DP_Project/pickles/a_control_targets_{randomness_id}.pkl\"\n",
    "donor_targets_pickle_dir = f\"/data1/masoud/DP_Project/pickles/donor_targets_{randomness_id}.pkl\"\n",
    "\n",
    "# This takes 15-20 mins, go get some rest until its done and dont kill the notebook later!\n",
    "s_control_targets = get_target_precompute_order(s_control, s_control_targets_pickle_dir)\n",
    "a_control_targets = get_target_precompute_order(a_control, a_control_targets_pickle_dir)\n",
    "\n",
    "donor_targets = get_target_precompute_order(s_beacon, donor_targets_pickle_dir)"
   ]
  },
  {
   "cell_type": "markdown",
   "metadata": {},
   "source": [
    "### Step 2: Function definitions"
   ]
  },
  {
   "cell_type": "markdown",
   "metadata": {},
   "source": [
    "#### Position based LRT calculation\n",
    "First function calculates LRT value for given number of people in beacon, it's response, victim's genome and maf values\n",
    "\n",
    "Second one calculates LRT valus for a single person and a given control group, then returns it"
   ]
  },
  {
   "cell_type": "code",
   "execution_count": 13,
   "metadata": {},
   "outputs": [],
   "source": [
    "# n: Num query\n",
    "error=0.001\n",
    "# def calculate_lrt(num_people, response, genome, maf):\n",
    "#     DN_i = np.power((1-maf), (2*num_people))\n",
    "#     DN_i_1 = np.power((1-maf), (2*num_people-2))\n",
    "    \n",
    "#     # Genome == 1\n",
    "#     log1 = np.log(DN_i/(error*DN_i_1))\n",
    "#     log2 = np.log((error*DN_i_1 * (1-DN_i)) / (DN_i * (1-error*DN_i_1)))\n",
    "    \n",
    "#     # Genome == 0\n",
    "#     log3 = np.log(DN_i)-np.log(((1-error)*DN_i_1))\n",
    "#     log4 = np.log(1-error) + np.log(DN_i_1) + np.log(1-DN_i) - (    np.log(DN_i) + np.log(1-DN_i_1*(1-error))    )  \n",
    "\n",
    "#     return  (log1+log2*response) * genome.T + (log3+log4*response) * (1-genome).T\n",
    "\n",
    "def calculate_lrt(num_people, response, S, genome, maf):\n",
    "    coef = (2*S-1)*response + 1 - S\n",
    "\n",
    "    DN_i = np.power((1-maf), (2*num_people))\n",
    "    DN_i_1 = np.power((1-maf), (2*num_people-2))\n",
    "    \n",
    "    # Genome == 1\n",
    "    log1 = np.log(DN_i/(error*DN_i_1))\n",
    "    log2 = np.log((error*DN_i_1 * (1-DN_i)) / (DN_i * (1-error*DN_i_1)))\n",
    "    \n",
    "    # Genome == 0\n",
    "    log3 = np.log(DN_i)-np.log(((1-error)*DN_i_1))\n",
    "    log4 = np.log(1-error) + np.log(DN_i_1) + np.log(1-DN_i) - (    np.log(DN_i) + np.log(1-DN_i_1*(1-error))    )  \n",
    "\n",
    "    return  (log1+log2*coef) * genome.T + (log3+log4*response) * (1-genome).T\n",
    "\n",
    "def optimal_lrt(victim, control_people, control_targets, beacon, A, S, num_query):\n",
    "    control_size = control_people.shape[1]\n",
    "    beacon_size = beacon.shape[1]\n",
    "    \n",
    "    # Victim lrt\n",
    "    response = beacon[A].any(axis=1)\n",
    "    maf_i = maf_values[A]\n",
    "    victim_lrt = calculate_lrt(beacon_size, response, S, victim[A], maf_i)\n",
    "    \n",
    "    # Find the SNPs to query for control lrt calculation (pre-computed before)\n",
    "    control_asked = np.array([control_targets[np.searchsorted(np.unique(victim_snps[victim[a]]), maf_values[a])][:, victim[a]] for a in A]).T\n",
    "\n",
    "    # Query the beacon\n",
    "    responses = np.array([beacon[target].any(axis=1) for target in control_asked])\n",
    "    control_lrt = np.zeros((control_size, num_query))\n",
    "    for i in range(control_size):\n",
    "        target = control_asked[i]\n",
    "        maf_i = maf_values[target]\n",
    "        control_lrt[i] = calculate_lrt(beacon_size, responses[i], np.ones(S.shape), control_people[target, i], maf_i)\n",
    "    \n",
    "    return np.sum(victim_lrt), np.sum(control_lrt, axis=1)"
   ]
  },
  {
   "cell_type": "code",
   "execution_count": 14,
   "metadata": {},
   "outputs": [],
   "source": [
    "def calculate_A(maf, num_people):\n",
    "    if (len(maf) == 0): return []\n",
    "    \n",
    "    DN_i = np.power((1-maf), (2*num_people))\n",
    "    DN_i_1 = np.power((1-maf), (2*num_people-2))\n",
    "    \n",
    "    \n",
    "    return np.log(1 - DN_i) - np.log(1 - error * DN_i_1)\n",
    "\n",
    "def calculate_B(maf, num_people):\n",
    "    if (len(maf) == 0): return []\n",
    "    \n",
    "    DN_i = np.power((1-maf), (2*num_people))\n",
    "    DN_i_1 = np.power((1-maf), (2*num_people-2))\n",
    "    \n",
    "    return np.log(DN_i) - np.log(error*DN_i_1)\n",
    "    "
   ]
  },
  {
   "cell_type": "code",
   "execution_count": 15,
   "metadata": {},
   "outputs": [],
   "source": [
    "# Masoud Version\n",
    "# n: Num query\n",
    "error = 0.001\n",
    "\n",
    "\n",
    "def calculate_lrt(num_people, y, genome, maf, actual_responses):\n",
    "    # index of queries which has response zero\n",
    "    Q_0 = np.where(~actual_responses)\n",
    "    # index of queroes which has  response one\n",
    "    Q_1 = np.where(actual_responses)\n",
    "\n",
    "\n",
    "    # Impact of beacon's zero answers\n",
    "    zero_flip = np.sum(genome[Q_0] * calculate_B(maf[Q_0], num_people))\n",
    "    \n",
    "    y = y[Q_1]\n",
    "    # Impact of beacon's one answers\n",
    "    one_flip =  np.sum(\n",
    "        genome[Q_1] * (\n",
    "            y * calculate_A(maf[Q_1], num_people) +\n",
    "            (1 - y) * calculate_B(maf[Q_1], num_people)\n",
    "        )\n",
    "    )\n",
    "    # print(f\"Strategy: {S}\")\n",
    "    # print(f\"Actual response: {actual_responses}\")\n",
    "    # print(f\"Is SNP: {genome}\")\n",
    "    # print(f\"SNP impact: {SNP_impact}, non SNP impact: {non_SNP_impact}, LRT: {SNP_impact + non_SNP_impact}\")\n",
    "    # print(\"====================================\")\n",
    "\n",
    "\n",
    "    LRT = zero_flip + one_flip\n",
    "    return  LRT\n",
    "\n",
    "\n",
    "def optimal_lrt(victim, control_people, control_targets, beacon, A, S, num_query):\n",
    "    control_size = control_people.shape[1]\n",
    "    beacon_size = beacon.shape[1]\n",
    "\n",
    "    # Victim lrt\n",
    "    response = beacon[A].any(axis=1)\n",
    "    # coef = (2*S-1)*response + 1 - S\n",
    "    maf_i = maf_values[A]\n",
    "    # print(\"**************\")\n",
    "    # print(\"*** Victim ***\")\n",
    "    # print(f\"victim: {victim}\")\n",
    "    # print(f\"A: {A}\")\n",
    "    # print(f\"victim[A]: {victim[A]}\")\n",
    "    victim_lrt = calculate_lrt(beacon_size, S, victim[A], maf_i, response)\n",
    "\n",
    "    # Find the SNPs to query for control lrt calculation (pre-computed before)\n",
    "    control_asked = np.array([control_targets[np.searchsorted(\n",
    "        np.unique(victim_snps[victim[a]]), maf_values[a])][:, victim[a]] for a in A]).T\n",
    "\n",
    "    #  Query the beacon\n",
    "    responses = np.array([beacon[target].any(axis=1)\n",
    "                         for target in control_asked])\n",
    "    control_lrt = np.zeros((control_size, num_query))\n",
    "    for i in range(control_size):\n",
    "        target = control_asked[i]\n",
    "        maf_i = maf_values[target]\n",
    "        control_lrt[i] = calculate_lrt(beacon_size, np.ones(S.shape), control_people[target, i], maf_i, responses[i])  # we may have problem here!\n",
    "        # control_lrt[i] = calculate_lrt(beacon_size, S, control_people[target, i], maf_i, responses[i])  # we may have problem here!\n",
    "\n",
    "    return np.sum(victim_lrt), np.sum(control_lrt, axis=1)"
   ]
  },
  {
   "cell_type": "markdown",
   "metadata": {},
   "source": [
    "###### p-value Function"
   ]
  },
  {
   "cell_type": "code",
   "execution_count": 16,
   "metadata": {},
   "outputs": [],
   "source": [
    "def p_value(victim_lrt, control_lrt):\n",
    "    return np.sum(control_lrt <= victim_lrt) / control_lrt.shape[0]"
   ]
  },
  {
   "cell_type": "markdown",
   "metadata": {},
   "source": [
    "##### Helpers calculate utility for specific step i and returns it along with the previous p_values"
   ]
  },
  {
   "cell_type": "code",
   "execution_count": 17,
   "metadata": {},
   "outputs": [],
   "source": [
    "def ua_helper(utility_func, ai, si, i, p_prev_victim):\n",
    "    # Current p-value\n",
    "    victim_delta, control_delta = optimal_lrt(victim, a_control, a_control_targets, s_beacon, ai, si, i)\n",
    "    p_victim_current = p_value(victim_delta, control_delta)\n",
    "    utility = utility_func(ai[-1], si[-1], p_prev_victim, p_victim_current, i)\n",
    "    return utility, p_victim_current\n",
    "\n",
    "def us_helper(utility_func, ai, si, i, p_prev_donors):\n",
    "    # print(f\"si: {si}\")\n",
    "    # Current p-value\n",
    "    p_donors_current = np.zeros(s_beacon.shape[1])\n",
    "    for j in range(s_beacon.shape[1]):\n",
    "        victim_delta, control_delta = optimal_lrt(s_beacon[:, j], s_control, s_control_targets, s_beacon, ai, si, i)\n",
    "        p_donors_current[j] = p_value(victim_delta, control_delta)\n",
    "    \n",
    "    # print(f\"strategy is: {si}\")\n",
    "    # print(f\"Current p values: {p_donors_current}\")\n",
    "    utility = utility_func(ai[-1], si, p_prev_donors, p_donors_current, i)\n",
    "    return utility, p_donors_current"
   ]
  },
  {
   "cell_type": "markdown",
   "metadata": {},
   "source": [
    "##### Utility functions calculate utility value for the LAST step"
   ]
  },
  {
   "cell_type": "code",
   "execution_count": 18,
   "metadata": {},
   "outputs": [],
   "source": [
    "def utility_attacker(a,s,num_query,utility_func):\n",
    "    # Attacker Utility\n",
    "    utility = np.zeros(num_query)\n",
    "    # Previous p-value\n",
    "    p_victim_prev = 1\n",
    "    for i in range(num_query):\n",
    "        utility[i], p_victim_prev = ua_helper(utility_func, a[:i+1], s[:i+1], i+1, p_victim_prev)\n",
    "    return utility[-1]\n",
    "\n",
    "def utility_sharer(a,s,num_query,utility_func):\n",
    "    # Sharer Utility\n",
    "    utility = np.zeros(num_query)\n",
    "    # Previous p-value\n",
    "    p_donors_prev = np.ones(s_beacon.shape[1])\n",
    "    for i in range(num_query):\n",
    "        utility[i], p_donors_prev = us_helper(utility_func, a[:i+1], s[:i+1], i+1, p_donors_prev)\n",
    "    return utility[-1]"
   ]
  },
  {
   "cell_type": "markdown",
   "metadata": {},
   "source": [
    "## Utility Functions"
   ]
  },
  {
   "cell_type": "markdown",
   "metadata": {},
   "source": [
    "**MAF Value:** <code>-np.log(maf.iloc[ai][\"maf\"]+1e-3)/abs(np.log(1e-3))</code> <br>\n",
    "**Lying Probability:** <code>(1-si)</code><br>\n",
    "**Number of Queries Sent:** <code>num_query/20</code><br>\n",
    "**p-value change for donors:** <code>np.sum(p_prevs - p_currents)/len(p_prevs) </code><br>\n",
    "**Count of risky people:** <code>np.sum(p_currents <= 0.05)/len(p_currents)</code><br>\n",
    "**Deviation of p-values:** <code>np.std(p_currents)</code><br>"
   ]
  },
  {
   "cell_type": "code",
   "execution_count": 19,
   "metadata": {},
   "outputs": [],
   "source": [
    "def sharer_u1(ai, si, p_prevs, p_currents, num_query):\n",
    "    # utility = 1 * np.sum(1-si) + np.std(p_currents)*3\n",
    "    utility = np.std(p_currents) * 2 + len(si) / sum(1-si) + 2*(1-si[-1])\n",
    "    # print(f'* Sharer - ai: {ai}, si: {si}, p_prevs: {p_prevs}, p_currents: {p_currents}, num_query: {num_query} \\n utility: {(-utility+6)/(2)}, new term1: { len(si) / sum(1-si)}, {2*(1-si[-1])}')\n",
    "    return (-utility+2)/(2) #normalize"
   ]
  },
  {
   "cell_type": "code",
   "execution_count": 20,
   "metadata": {},
   "outputs": [],
   "source": [
    "def attacker_u1(ai, si, p_prev, p_current, num_query):\n",
    "    utility = (p_prev - p_current)\n",
    "    # print(f'* Attacker: ai: {ai}, si: {si}, p_prev: {p_prev}, p_current: {p_current}, num_query: {num_query} \\n utility: {(utility+2) * 2/3}')\n",
    "    return (utility)/3 #normalize\n",
    "    # return (utility+2) * 2/3 #normalize"
   ]
  },
  {
   "cell_type": "code",
   "execution_count": null,
   "metadata": {},
   "outputs": [],
   "source": [
    "# Kerem version\n",
    "def sharer_u1(ai, si, p_prevs, p_currents, i):\n",
    "    utility = 2*(1-si) + np.std(p_currents)*2\n",
    "    return (-utility+2)/(2) #normalize\n",
    "\n",
    "def attacker_u1(ai, si, p_prev, p_current, num_query):\n",
    "    utility = (p_prev - p_current) - num_query/3\n",
    "    return (utility+2)/3 #normalize"
   ]
  },
  {
   "cell_type": "code",
   "execution_count": 21,
   "metadata": {},
   "outputs": [],
   "source": [
    "# Utility Functions\n",
    "afunc = attacker_u1\n",
    "sfunc = sharer_u1"
   ]
  },
  {
   "cell_type": "markdown",
   "metadata": {},
   "source": [
    "### Game Scenario"
   ]
  },
  {
   "cell_type": "code",
   "execution_count": 22,
   "metadata": {},
   "outputs": [],
   "source": [
    "num_query = 3\n",
    "possible_snps = 3\n",
    "exist_count = 3"
   ]
  },
  {
   "cell_type": "code",
   "execution_count": 27,
   "metadata": {},
   "outputs": [],
   "source": [
    "# Find rare SNPs\n",
    "A = np.random.choice(s_beacon.shape[0], possible_snps)\n",
    "while np.sum(victim[A]) < exist_count or not maf.iloc[A][\"maf\"].values.all() or np.sum(maf.iloc[A][\"maf\"]*victim[A]) >= 0.15*exist_count:\n",
    "    A = np.random.choice(s_beacon.shape[0], possible_snps)"
   ]
  },
  {
   "cell_type": "code",
   "execution_count": null,
   "metadata": {},
   "outputs": [],
   "source": [
    "# Select rarest of victim\n",
    "# A = sorted_maf.loc[sorted_maf.index.isin(np.where(victim)[0])][\"maf\"]\n",
    "# A = A.index[100:100+num_query].values"
   ]
  },
  {
   "cell_type": "code",
   "execution_count": 28,
   "metadata": {},
   "outputs": [
    {
     "data": {
      "text/plain": [
       "array([1, 1, 1])"
      ]
     },
     "execution_count": 28,
     "metadata": {},
     "output_type": "execute_result"
    }
   ],
   "source": [
    "victim[A]"
   ]
  },
  {
   "cell_type": "code",
   "execution_count": 29,
   "metadata": {},
   "outputs": [
    {
     "data": {
      "text/plain": [
       "array([2933264, 2039982, 3174731])"
      ]
     },
     "execution_count": 29,
     "metadata": {},
     "output_type": "execute_result"
    }
   ],
   "source": [
    "A"
   ]
  },
  {
   "cell_type": "code",
   "execution_count": 30,
   "metadata": {},
   "outputs": [
    {
     "name": "stdout",
     "output_type": "stream",
     "text": [
      "Will try at most  162  iterations\n",
      "Victim:  [1 1 1] \n",
      "Attacker Strategy Set:  [2933264 2039982 3174731] \n",
      "Sharer Strategy Set:  [0.50000 0.70000 1.00000] \n",
      "MAF:  [0.10200 0.20400 0.08400]\n"
     ]
    }
   ],
   "source": [
    "# Sharer's Strategy\n",
    "S = np.round(np.arange(0.7,1.01,0.1), 2)\n",
    "S = np.array([0.5, 0.7, 1])\n",
    "\n",
    "# Product Space\n",
    "all_attacker = np.array(list(permutations(A, num_query)))\n",
    "all_sharer = list(product(S, repeat=num_query))\n",
    "\n",
    "\n",
    "# Utility Functions\n",
    "afunc = attacker_u1\n",
    "sfunc = sharer_u1\n",
    "\n",
    "# Print Information\n",
    "print(\"Will try at most \", len(all_attacker)*len(all_sharer), \" iterations\")\n",
    "print(\"Victim: \", victim[A], \"\\nAttacker Strategy Set: \",A,\"\\nSharer Strategy Set: \", S,\"\\nMAF: \",maf.iloc[A][\"maf\"].values)"
   ]
  },
  {
   "cell_type": "markdown",
   "metadata": {},
   "source": [
    "## 1. Equilibrium"
   ]
  },
  {
   "cell_type": "markdown",
   "metadata": {},
   "source": [
    "#### Disclaimer from kayoz@\n",
    "This looks ugly and I wrote it long time ago. It is working perfectly fine but feel free to make it faster and more beautiful\n",
    "\n",
    "Basically it traverses the whole game tree bottom-up to calculate which path leads to Nash Equilibrium\n",
    "\n",
    "It's also multithreaded (as much as it can be in Python) so I suggest not to touch in below code if not necessary or if you are not crazy ambitious"
   ]
  },
  {
   "cell_type": "code",
   "execution_count": null,
   "metadata": {},
   "outputs": [
    {
     "data": {
      "text/plain": [
       "72"
      ]
     },
     "execution_count": 133,
     "metadata": {},
     "output_type": "execute_result"
    }
   ],
   "source": [
    "import os\n",
    "os.cpu_count()"
   ]
  },
  {
   "cell_type": "code",
   "execution_count": 31,
   "metadata": {},
   "outputs": [
    {
     "name": "stdout",
     "output_type": "stream",
     "text": [
      "i is 3\n",
      "params are generated!\n",
      "Started all sub processes\n",
      "iteration is over. Killing child processes\n",
      "i is 2\n",
      "params are generated!\n",
      "Started all sub processes\n",
      "iteration is over. Killing child processes\n",
      "CPU times: user 485 ms, sys: 17.8 s, total: 18.3 s\n",
      "Wall time: 12min 50s\n"
     ]
    }
   ],
   "source": [
    "%%time\n",
    "utilities  = defaultdict(lambda: defaultdict(lambda:(0,0)))\n",
    "strategies = defaultdict(lambda: defaultdict(lambda:(0,0)))\n",
    "def func(params):\n",
    "    a = params[0] # strategy sets of Attacker\n",
    "    s = params[1] # strategy sets of Sharer\n",
    "    # print(f\"{a}, {s}\")\n",
    "    # utility of sharer\n",
    "    us = np.array([\n",
    "        np.array([\n",
    "            utility_sharer(np.append(a, ai), np.append(s, si), i, sfunc) + utilities[a+(ai,)][s+(si,)][1] if ai not in a else -np.inf for si in S]) for ai in A\n",
    "        ])\n",
    "    # Optimum sharer strategy\n",
    "    os = np.argmax(us, axis=1)\n",
    "    bus = np.choose(os, us.T)\n",
    "    \n",
    "    # Find optimum strategy for all possible ai\n",
    "    ua = np.array([utility_attacker(np.append(a, ai), np.append(s, S[os[t]]), i, afunc) + utilities[a+(ai,)][s+(S[os[t]],)][0] if ai not in a else -np.inf for t, ai in enumerate(A)])\n",
    "    oa = np.argmax(ua)\n",
    "    bua = ua[oa]\n",
    "    return a, s, A[oa], S[os[oa]], bua, bus[oa]\n",
    "\n",
    "i = num_query\n",
    "while i > 1:\n",
    "    # Generate all possible past strategy combinations\n",
    "    all_attacker = list(permutations(A, i-1))\n",
    "    all_sharer = list(product(S, repeat=i-1))\n",
    "    print(f'i is {i}')\n",
    "\n",
    "    #  Param grid for multiprocessor pool unit\n",
    "    paramlist = list(product(all_attacker, all_sharer))\n",
    "    print('params are generated!')\n",
    "    pool = multiprocessing.Pool(62)\n",
    "    \n",
    "    try:\n",
    "        res  = pool.map(func,paramlist)\n",
    "        print('Started all sub processes')\n",
    "        for r in res:\n",
    "            strategies[r[0]][r[1]] = (r[2], r[3])\n",
    "            utilities[r[0]][r[1]] = (r[4], r[5])\n",
    "        i-=1\n",
    "        \n",
    "    except:\n",
    "        print(\"Something went wrong. Killing all of the processes\")\n",
    "        pool.terminate()\n",
    "        break\n",
    "        \n",
    "    finally:\n",
    "        print('iteration is over. Killing child processes')\n",
    "        pool.close()\n",
    "        pool.join()\n",
    "    # print(f'Running with params {paramlist[0]}')\n",
    "    # func(paramlist[0])\n",
    "    # break"
   ]
  },
  {
   "cell_type": "code",
   "execution_count": 32,
   "metadata": {},
   "outputs": [],
   "source": [
    "# Final step, first query\n",
    "us = np.array([np.array([utility_sharer(np.array([ai]), np.array([si]), i, sfunc) + utilities[tuple([ai])][tuple([si])][1] for si in S]) for ai in A])\n",
    "os = np.argmax(us, axis=1)  \n",
    "bus = np.choose(os, us.T)\n",
    "\n",
    "# Find optimum strategy for all possible ai\n",
    "ua = np.array([utility_attacker(np.array([ai]), np.array([S[os[t]]]), i, afunc) + utilities[tuple([ai])][tuple([S[os[t]]])][0] for t, ai in enumerate(A)])\n",
    "oa = np.argmax(ua)\n",
    "bua = ua[oa]\n",
    "    \n",
    "# Finally\n",
    "a_eq = np.array([A[oa]])\n",
    "s_eq = np.array([S[os[oa]]])\n",
    "for i in range(num_query-1):\n",
    "    a, s = strategies[tuple(a_eq)][tuple(s_eq)]\n",
    "    a_eq = np.append(a_eq, a, axis=None)\n",
    "    s_eq = np.append(s_eq, s, axis=None)\n",
    "    \n",
    "\n",
    "au_eq = np.zeros((num_query+1))\n",
    "su_eq = np.zeros((num_query+1))\n",
    "for i in range(num_query-1, 0, -1):\n",
    "    au_eq[i+1], su_eq[i+1] = np.array(utilities[tuple(a_eq[:i])][tuple(s_eq[:i])]) - np.array(utilities[tuple(a_eq[:i+1])][tuple(s_eq[:i+1])])\n",
    "au_eq[1] = bua - np.array(utilities[tuple(a_eq[:1])][tuple(s_eq[:1])])[0]\n",
    "su_eq[1] = bus[oa] - np.array(utilities[tuple(a_eq[:1])][tuple(s_eq[:1])])[1]"
   ]
  },
  {
   "cell_type": "markdown",
   "metadata": {},
   "source": [
    "## 2. Greedy"
   ]
  },
  {
   "cell_type": "code",
   "execution_count": 33,
   "metadata": {},
   "outputs": [
    {
     "name": "stdout",
     "output_type": "stream",
     "text": [
      "A:  [2933264] \n",
      "S:  [0.50000]\n",
      "Utilities:  0.0 -0.5 \n",
      "\n"
     ]
    },
    {
     "name": "stdout",
     "output_type": "stream",
     "text": [
      "A:  [2933264 2039982] \n",
      "S:  [0.50000 0.50000]\n",
      "Utilities:  0.0 -0.5 \n",
      "\n",
      "A:  [2933264 2039982 3174731] \n",
      "S:  [0.50000 0.50000 0.70000]\n",
      "Utilities:  0.0 -0.4538461538461538 \n",
      "\n"
     ]
    }
   ],
   "source": [
    "a_grd = s_grd = np.array([], dtype=int)\n",
    "au_grd = np.zeros((num_query+1))\n",
    "su_grd = np.zeros((num_query+1))\n",
    "\n",
    "for i in range(num_query):\n",
    "    # Final step, first query\n",
    "    us = np.array([np.array([utility_sharer(np.append(a_grd, ai), np.append(s_grd, si), i+1, sfunc) if ai not in a_grd else -np.inf for si in S]) for ai in A])\n",
    "    os = np.argmax(us, axis=1)  \n",
    "    bus = np.choose(os, us.T)\n",
    "\n",
    "    # Find optimum strategy for all possible ai\n",
    "    ua = np.array([utility_attacker(np.append(a_grd, ai), np.append(s_grd, S[os[t]]), i+1, afunc) if ai not in a_grd else -np.inf for t, ai in enumerate(A)])\n",
    "    oa = np.argmax(ua)\n",
    "    bua = ua[oa]\n",
    "\n",
    "    # Obtain best strategies\n",
    "    a_grd = np.append(a_grd, A[oa])\n",
    "    s_grd = np.append(s_grd, S[os[oa]])\n",
    "    \n",
    "    # Obtain utilities for the step i\n",
    "    au_grd[i+1], su_grd[i+1] = (bua, bus[oa])\n",
    "    \n",
    "    print(\"A: \", a_grd, \"\\nS: \", s_grd)\n",
    "    print(\"Utilities: \", au_grd[i+1], su_grd[i+1], \"\\n\")"
   ]
  },
  {
   "cell_type": "markdown",
   "metadata": {},
   "source": [
    "## 3. Optimal Attack"
   ]
  },
  {
   "cell_type": "code",
   "execution_count": 34,
   "metadata": {},
   "outputs": [],
   "source": [
    "# Optimal Attack\n",
    "a_opt = A[np.argsort(maf.iloc[A][\"maf\"].values)][:num_query]\n",
    "s_opt = np.ones(num_query)\n",
    "\n",
    "def utility_attacker_pval(a,s,num_query,utility_func):\n",
    "    # Attacker Utility\n",
    "    utility = np.zeros(num_query)\n",
    "    # Previous p-value\n",
    "    p_victim_prev = 1\n",
    "    for i in range(num_query):\n",
    "        utility[i], p_victim_prev = ua_helper(utility_func, a[:i+1], s[:i+1], i+1, p_victim_prev)\n",
    "    return utility[-1], p_victim_prev\n",
    "\n",
    "def utility_sharer_pval(a,s,num_query,utility_func):\n",
    "    # Sharer Utility\n",
    "    utility = np.zeros(num_query)\n",
    "    # Previous p-value\n",
    "    p_donors_prev = np.ones(s_beacon.shape[1])\n",
    "    for i in range(num_query):\n",
    "        utility[i], p_donors_prev = us_helper(utility_func, a[:i+1], s[:i+1], i+1, p_donors_prev)\n",
    "    return utility[-1], p_donors_prev\n",
    "\n",
    "def calculate_utilities(a,s,afunc,sfunc):\n",
    "    attacker_utilities = np.zeros(num_query+1)\n",
    "    sharer_utilities = np.zeros(num_query+1)\n",
    "    p_victim = np.ones(num_query+1)\n",
    "    p_donors = np.ones((num_query+1, s_beacon.shape[1]))\n",
    "    for i in range(num_query):\n",
    "        attacker_utilities[i+1], p_victim[i+1] = utility_attacker_pval(a[:i+1],s[:i+1],i+1,afunc)\n",
    "        sharer_utilities[i+1], p_donors[i+1] = utility_sharer_pval(a[:i+1],s[:i+1],i+1,sfunc)\n",
    "    return attacker_utilities, sharer_utilities, p_victim, p_donors\n",
    "\n",
    "au_opt, su_opt, pv_opt, pd_opt = calculate_utilities(a_opt,s_opt,afunc,sfunc)"
   ]
  },
  {
   "cell_type": "code",
   "execution_count": 35,
   "metadata": {},
   "outputs": [],
   "source": [
    "_, _, pv_grd, pd_grd = calculate_utilities(a_grd,s_grd,afunc,sfunc)\n",
    "_, _, pv_eq, pd_eq = calculate_utilities(a_eq,s_eq,afunc,sfunc)"
   ]
  },
  {
   "cell_type": "markdown",
   "metadata": {},
   "source": [
    "# Plot"
   ]
  },
  {
   "cell_type": "code",
   "execution_count": 36,
   "metadata": {},
   "outputs": [],
   "source": [
    "def create_plot(ax,title,au,su,a,s, pv):\n",
    "    ax.title.set_text(title)\n",
    "    ax.plot(au, label=\"Attacker\")\n",
    "    ax.plot(su, label=\"Sharer\")\n",
    "    \n",
    "    #ax.plot(np.cumsum(au), label=\"Attacker Cumulative\")\n",
    "    #ax.plot(np.cumsum(su), label=\"Sharer Cumulative\")\n",
    "    \n",
    "    ax.plot(pv,'--bo', color='tab:red', label='p-victim')\n",
    "\n",
    "    ax.set_ylabel(\"Utility\")\n",
    "    ax.set_xticks(np.arange(num_query+1), [])  \n",
    "    ax.legend()\n",
    "    ax.grid(True)\n",
    "    ax.get_xaxis().set_visible(False)\n",
    "    # P-value plot\n",
    "\n",
    "    columns = tuple([str(i) for i in range(num_query+1)])\n",
    "    \n",
    "    rows = ('Victim', 'MAF', 'Indices', 'Sharer')\n",
    "    cells = np.hstack([np.zeros((4,1))+np.inf, np.vstack([victim[a],np.round(maf.iloc[a][\"maf\"].values,3),a, s])])\n",
    "    the_table = plt.table(cellText=cells,rowLabels=rows,colLabels=columns,loc='bottom')\n",
    "    return ax"
   ]
  },
  {
   "cell_type": "code",
   "execution_count": 37,
   "metadata": {},
   "outputs": [
    {
     "data": {
      "image/png": "[encoded data removed]",
      "text/plain": [
       "<Figure size 2500x500 with 3 Axes>"
      ]
     },
     "metadata": {},
     "output_type": "display_data"
    }
   ],
   "source": [
    "fig = plt.figure(figsize=(25, 5))\n",
    "su_eq[0], su_grd[0], su_opt[0] = 1, 1, 1\n",
    "\n",
    "# Figure 1\n",
    "ax1 = fig.add_subplot(131)\n",
    "ax1 = create_plot(ax1,\"Equilibrium Solution\",au_eq,su_eq,a_eq,s_eq, pv_eq)\n",
    "\n",
    "# Figure 2\n",
    "ax2 = fig.add_subplot(132)\n",
    "ax2 = create_plot(ax2,\"Greedy Solution\",au_grd,su_grd,a_grd,s_grd, pv_grd)\n",
    "\n",
    "# Figure 3\n",
    "ax3 = fig.add_subplot(133)\n",
    "ax3 = create_plot(ax3,\"Optimal Attack\",au_opt,su_opt,a_opt,s_opt, pv_opt)\n",
    "\n",
    "fig.suptitle('Plots of Game')\n",
    "plt.show()\n",
    "#fig.savefig(\"6queery3.png\", dpi=500, bbox_inches=\"tight\", pad_inches=1)"
   ]
  },
  {
   "cell_type": "code",
   "execution_count": null,
   "metadata": {},
   "outputs": [],
   "source": []
  },
  {
   "cell_type": "code",
   "execution_count": null,
   "metadata": {},
   "outputs": [],
   "source": []
  },
  {
   "cell_type": "code",
   "execution_count": null,
   "metadata": {},
   "outputs": [],
   "source": []
  },
  {
   "cell_type": "markdown",
   "metadata": {},
   "source": [
    "## LRT Experiments"
   ]
  },
  {
   "cell_type": "code",
   "execution_count": null,
   "metadata": {},
   "outputs": [],
   "source": [
    "error=0.001\n",
    "def calculate_lrt(num_people, response, genome, maf):\n",
    "    DN_i = np.power((1-maf), (2*num_people))\n",
    "    DN_i_1 = np.power((1-maf), (2*num_people-2))\n",
    "    \n",
    "    # Genome == 1\n",
    "    log1 = np.log(DN_i/(error*DN_i_1))\n",
    "    log2 = np.log((error*DN_i_1 * (1-DN_i)) / (DN_i * (1-error*DN_i_1)))\n",
    "    \n",
    "    # Genome == 0\n",
    "    log3 = np.log(DN_i)-np.log(((1-error)*DN_i_1))\n",
    "    log4 = np.log(1-error) + np.log(DN_i_1) + np.log(1-DN_i) - (    np.log(DN_i) + np.log(1-DN_i_1*(1-error))    )  \n",
    "    print(\"Log1: \", log1, \"\\nLog2: \", log2, \"\\nLog3: \", log3, \"\\nLog4: \", log4, \"\\n\\n\")\n",
    "    return  (log1+log2*response) * genome.T + (log3+log4*response) * (1-genome).T\n",
    "\n",
    "temp = calculate_lrt(60, np.array([0,0,1,1]), np.array([0,1,0,1]), np.array([0.15]*4))\n",
    "\n",
    "print(\"Optimal Attack - LRT Values in Attacker's Side\")\n",
    "print(\"Case where MAF=0.001 and beacon response and genome value is accordingly\\n-------------------------------------------------------\")\n",
    "print(\"Response=0 & Genome=0 --> \", temp[0])\n",
    "print(\"Response=0 & Genome=1 --> \", temp[1])\n",
    "print(\"Response=1 & Genome=0 --> \", temp[2])\n",
    "print(\"Response=1 & Genome=1 --> \", temp[3])"
   ]
  },
  {
   "cell_type": "code",
   "execution_count": null,
   "metadata": {},
   "outputs": [],
   "source": [
    "temp = calculate_lrt(60, np.array([0,1,0,1]), np.array([0,0,1,1]), np.array([0.001,0.001,0.001,0.001]))\n",
    "print(\"Optimal Attack - LRT Values in Defender's Side\")\n",
    "print(\"Case where MAF=0.001 and beacon response and genome value is accordingly\\n-------------------------------------------------------\")\n",
    "print(\"Response=0 & Genome=0 --> \", temp[0])\n",
    "print(\"Response=0 & Genome=1 --> NOT VALID\")#, temp[1])\n",
    "print(\"Response=1 & Genome=0 --> \", temp[2])\n",
    "print(\"Response=1 & Genome=1 --> \", temp[3])"
   ]
  }
 ],
 "metadata": {
  "kernelspec": {
   "display_name": "Python 3",
   "language": "python",
   "name": "python3"
  },
  "language_info": {
   "codemirror_mode": {
    "name": "ipython",
    "version": 3
   },
   "file_extension": ".py",
   "mimetype": "text/x-python",
   "name": "python",
   "nbconvert_exporter": "python",
   "pygments_lexer": "ipython3",
   "version": "3.8.19"
  }
 },
 "nbformat": 4,
 "nbformat_minor": 4
}
