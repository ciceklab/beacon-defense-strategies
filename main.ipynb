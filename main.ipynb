{
 "cells": [
  {
   "cell_type": "code",
   "execution_count": null,
   "metadata": {
    "ExecuteTime": {
     "end_time": "2024-04-14T16:02:12.895829Z",
     "start_time": "2024-04-14T16:02:04.696358Z"
    }
   },
   "outputs": [],
   "source": [
    "import pandas as pd\n",
    "import numpy as np\n",
    "import pickle\n",
    "import argparse\n",
    "import os\n",
    "\n",
    "import torch"
   ]
  },
  {
   "cell_type": "code",
   "execution_count": null,
   "metadata": {
    "ExecuteTime": {
     "end_time": "2024-04-14T16:03:46.782953Z",
     "start_time": "2024-04-14T16:03:46.758569Z"
    }
   },
   "outputs": [],
   "source": [
    "# set device to cpu or cuda\n",
    "device = torch.device('cpu')\n",
    "\n",
    "if(torch.cuda.is_available()):\n",
    "    device = torch.device('cuda:4')\n",
    "    torch.cuda.empty_cache()\n",
    "    print(\"Device set to : \" + str(torch.cuda.get_device_name(device)))\n",
    "else:\n",
    "    print(\"Device set to : cpu\")"
   ]
  },
  {
   "cell_type": "markdown",
   "metadata": {},
   "source": [
    "# Arguments"
   ]
  },
  {
   "cell_type": "code",
   "execution_count": null,
   "metadata": {
    "ExecuteTime": {
     "end_time": "2024-04-14T17:00:46.894600Z",
     "start_time": "2024-04-14T17:00:46.868205Z"
    }
   },
   "outputs": [],
   "source": [
    "# @title Arguments\n",
    "parser = argparse.ArgumentParser(description='Actor Critic')\n",
    "\n",
    "parser.add_argument('--data', default=\"/mnt/kerem/CEU\", type=str, help='Dataset Path')\n",
    "parser.add_argument('--epochs', default=64, type=int, metavar='N', help='Number of epochs for training agent.')\n",
    "parser.add_argument('--episodes', default=10000, type=int, metavar='N', help='Number of episodes for training agent.')\n",
    "parser.add_argument('--lr', '--learning-rate', default=0.005, type=float, metavar='LR', help='initial learning rate', dest='lr')\n",
    "parser.add_argument('--wd', default=0.0001, type=float, help='Weight decay for training optimizer')\n",
    "parser.add_argument('--seed', default=3, type=int, help='Seed for reproducibility')\n",
    "parser.add_argument('--model-name', default=\"PPO\", type=str, help='Model name for saving model.')\n",
    "parser.add_argument('--gamma', default=0.99, type=float, metavar='N', help='The discount factor as mentioned in the previous section')\n",
    "parser.add_argument('--val_freq', default=50, type=int, metavar='N', help='Validation frequencies')\n",
    "\n",
    "# Model\n",
    "parser.add_argument(\"--latent1\", default=256, required=False, help=\"Latent Space Size for first layer of network.\")\n",
    "parser.add_argument(\"--latent2\", default=256, required=False, help=\"Latent Space Size for second layer of network.\")\n",
    "\n",
    "# Env Properties\n",
    "parser.add_argument('--control_size', default=20, type=int, help='Beacon and Attacker Control group size')\n",
    "parser.add_argument('--gene_size', default=100, type=int, help='States gene size')\n",
    "parser.add_argument('--beacon_size', default=60, type=int, help='Beacon population size')\n",
    "parser.add_argument('--victim_prob', default=1, type=float, help='Victim inside beacon or not!')\n",
    "parser.add_argument('--pop_reset_freq', default=50, type=int, help='Reset Population Frequency (Epochs)')\n",
    "parser.add_argument('--max_queries', default=20, type=int, help='Maximum queries per episode')\n",
    "\n",
    "\n",
    "parser.add_argument(\"--state_dim\", default=(4,), required=False, help=\"State Dimension\")\n",
    "parser.add_argument(\"--n-actions\", default=1, required=False, help=\"Actions Count for each state\")\n",
    "\n",
    "\n",
    "# utils\n",
    "parser.add_argument('--resume', default=\"\", type=str, metavar='PATH', help='path to latest checkpoint (default: none)')\n",
    "parser.add_argument('--save-dir', default='./results', type=str, metavar='PATH', help='path to cache (default: none)')\n",
    "\n",
    "# args = parser.parse_args()  # running in command line\n",
    "args = parser.parse_args('')  # running in ipynb\n",
    "\n",
    "# set command line arguments here when running in ipynb\n",
    "if args.save_dir == '':\n",
    "    args.save_dir = \"./\"\n",
    "\n",
    "args.results_dir = args.save_dir\n",
    "\n",
    "if not os.path.exists(args.results_dir):\n",
    "      os.makedirs(args.results_dir)\n",
    "\n",
    "args.device = device\n",
    "\n",
    "print(args)"
   ]
  },
  {
   "cell_type": "markdown",
   "metadata": {},
   "source": [
    "# Read Data"
   ]
  },
  {
   "cell_type": "code",
   "execution_count": null,
   "metadata": {
    "ExecuteTime": {
     "end_time": "2024-04-14T17:01:59.087792Z",
     "start_time": "2024-04-14T17:00:48.807350Z"
    }
   },
   "outputs": [],
   "source": [
    "# CEU Beacon - it contains 164 people in total which we will divide into groups to experiment\n",
    "beacon = pd.read_csv(os.path.join(args.data, \"Beacon_164.txt\"), index_col=0, delim_whitespace=True)\n",
    "# Reference genome, i.e. the genome that has no SNPs, all major allele pairs for each position\n",
    "reference = pickle.load(open(os.path.join(args.data, \"reference.pickle\"),\"rb\"))\n",
    "# Binary representation of the beacon; 0: no SNP (i.e. no mutation) 1: SNP (i.e. mutation)\n",
    "binary = np.logical_and(beacon.values != reference, beacon.values != \"NN\").astype(int)"
   ]
  },
  {
   "cell_type": "code",
   "execution_count": null,
   "metadata": {
    "ExecuteTime": {
     "end_time": "2024-04-14T17:02:02.450257Z",
     "start_time": "2024-04-14T17:01:59.090645Z"
    }
   },
   "outputs": [],
   "source": [
    "# Table that contains MAF (minor allele frequency) values for each position. \n",
    "maf = pd.read_csv(os.path.join(args.data, \"MAF.txt\"), index_col=0, delim_whitespace=True)\n",
    "maf.rename(columns = {'referenceAllele':'major', 'referenceAlleleFrequency':'major_freq', \n",
    "                      'otherAllele':'minor', 'otherAlleleFrequency':'minor_freq'}, inplace = True)\n",
    "maf[\"maf\"] = np.round(maf[\"maf\"].values, 3)\n",
    "# Same variable with sorted maf values\n",
    "sorted_maf = maf.sort_values(by='maf')\n",
    "# Extracting column to an array for future use\n",
    "maf_values = maf[\"maf\"].values"
   ]
  },
  {
   "cell_type": "code",
   "execution_count": null,
   "metadata": {
    "ExecuteTime": {
     "end_time": "2024-04-14T17:02:05.040477Z",
     "start_time": "2024-04-14T17:02:05.034185Z"
    }
   },
   "outputs": [],
   "source": [
    "beacon.shape, reference.shape, binary.shape, maf_values.shape"
   ]
  },
  {
   "cell_type": "markdown",
   "metadata": {},
   "source": [
    "# PPO"
   ]
  },
  {
   "cell_type": "code",
   "execution_count": null,
   "metadata": {
    "ExecuteTime": {
     "end_time": "2024-04-14T17:02:09.299716Z",
     "start_time": "2024-04-14T17:02:09.294221Z"
    }
   },
   "outputs": [],
   "source": [
    "has_continuous_action_space = True                \n",
    "\n",
    "action_std = 0.4                    # starting std for action distribution (Multivariate Normal)\n",
    "action_std_decay_rate = 0.05        # linearly decay action_std (action_std = action_std - action_std_decay_rate)\n",
    "min_action_std = 0.1                # minimum action_std (stop decay after action_std <= min_action_std)\n",
    "action_std_decay_freq = int(2.5e5)\n",
    "\n",
    "################ PPO hyperparameters ################\n",
    "K_epochs = 64           # update policy for K epochs\n",
    "eps_clip = 0.2              # clip parameter for PPO\n",
    "gamma = 0.99                # discount factor\n",
    "\n",
    "lr_actor = 0.0003       # learning rate for actor network\n",
    "lr_critic = 0.001       # learning rate for critic network\n",
    "\n",
    "random_seed = 0         # set random seed if required (0 = no random seed)"
   ]
  },
  {
   "cell_type": "code",
   "execution_count": null,
   "metadata": {
    "ExecuteTime": {
     "end_time": "2024-04-15T04:26:17.889917Z",
     "start_time": "2024-04-15T04:26:02.608330Z"
    }
   },
   "outputs": [],
   "source": [
    "%load_ext autoreload\n",
    "%autoreload 2\n",
    "from environment import BeaconEnv\n",
    "from ppo import PPO\n",
    "from engine import train\n",
    "\n",
    "def main():\n",
    "    env = BeaconEnv(args, beacon, maf_values, binary)\n",
    "    state_dim = args.beacon_size * args.gene_size * 4\n",
    "    action_dim = env.action_space.shape[0]\n",
    "\n",
    "    # initialize a PPO agent\n",
    "    ppo_agent = PPO(state_dim, action_dim, lr_actor, lr_critic, gamma, K_epochs, eps_clip, has_continuous_action_space, action_std)\n",
    "\n",
    "    train(args, env, ppo_agent)\n",
    "\n",
    "if __name__ == '__main__':\n",
    "    main()"
   ]
  },
  {
   "cell_type": "code",
   "execution_count": null,
   "metadata": {
    "ExecuteTime": {
     "end_time": "2024-04-14T20:02:56.725094Z",
     "start_time": "2024-04-14T20:02:55.551728Z"
    }
   },
   "outputs": [],
   "source": []
  }
 ],
 "metadata": {
  "kernelspec": {
   "display_name": "Python 3",
   "language": "python",
   "name": "python3"
  },
  "language_info": {
   "codemirror_mode": {
    "name": "ipython",
    "version": 3
   },
   "file_extension": ".py",
   "mimetype": "text/x-python",
   "name": "python",
   "nbconvert_exporter": "python",
   "pygments_lexer": "ipython3",
   "version": "3.12.1"
  }
 },
 "nbformat": 4,
 "nbformat_minor": 2
}
