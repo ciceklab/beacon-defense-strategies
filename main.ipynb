{
 "cells": [
  {
   "cell_type": "code",
   "execution_count": 1,
   "metadata": {
    "ExecuteTime": {
     "end_time": "2024-07-22T10:51:46.064879Z",
     "start_time": "2024-07-22T10:51:44.623687Z"
    }
   },
   "outputs": [],
   "source": [
    "import pandas as pd\n",
    "import numpy as np\n",
    "import pickle\n",
    "import argparse\n",
    "import os\n",
    "import random\n",
    "\n",
    "import torch"
   ]
  },
  {
   "cell_type": "code",
   "execution_count": 2,
   "metadata": {
    "ExecuteTime": {
     "end_time": "2024-07-22T10:51:46.817105Z",
     "start_time": "2024-07-22T10:51:46.802344Z"
    }
   },
   "outputs": [],
   "source": [
    "def reproducibility(seed: int):\n",
    "    os.environ['PYTHONHASHSEED'] = str(seed)\n",
    "    torch.manual_seed(seed)\n",
    "    torch.backends.cudnn.deterministic = True\n",
    "    torch.backends.cudnn.benchmark = False\n",
    "    random.seed(seed)\n",
    "    np.random.seed(seed)\n",
    "    if torch.cuda.is_available():\n",
    "        torch.manual_seed(seed)\n",
    "        torch.cuda.manual_seed_all(seed)\n",
    "        torch.cuda.manual_seed(seed)\n",
    "reproducibility(3)"
   ]
  },
  {
   "cell_type": "code",
   "execution_count": 3,
   "metadata": {
    "ExecuteTime": {
     "end_time": "2024-07-22T10:51:47.163096Z",
     "start_time": "2024-07-22T10:51:47.161083Z"
    }
   },
   "outputs": [
    {
     "name": "stdout",
     "output_type": "stream",
     "text": [
      "Device set to : cpu\n"
     ]
    }
   ],
   "source": [
    "# set device to cpu or cuda\n",
    "device = torch.device('cpu')\n",
    "\n",
    "if(torch.cuda.is_available()):\n",
    "    device = torch.device('cuda:0')\n",
    "    torch.cuda.empty_cache()\n",
    "    print(\"Device set to : \" + str(torch.cuda.get_device_name(device)))\n",
    "else:\n",
    "    print(\"Device set to : cpu\")"
   ]
  },
  {
   "cell_type": "markdown",
   "metadata": {},
   "source": [
    "# Arguments"
   ]
  },
  {
   "cell_type": "code",
   "execution_count": 20,
   "metadata": {
    "ExecuteTime": {
     "end_time": "2024-07-22T10:58:55.825998Z",
     "start_time": "2024-07-22T10:58:55.774181Z"
    }
   },
   "outputs": [],
   "source": [
    "def args_create():\n",
    "    # @title Arguments\n",
    "    parser = argparse.ArgumentParser(description='Actor Critic')\n",
    "\n",
    "\n",
    "    # Environment Setup\n",
    "    parser.add_argument('--data', default=\"/mnt/kerem/CEU\", type=str, help='Dataset Path')\n",
    "    parser.add_argument('--episodes', default=7000, type=int, metavar='N', help='Number of episodes for training agent.')\n",
    "    parser.add_argument('--seed', default=3, type=int, help='Seed for reproducibility')\n",
    "    parser.add_argument('--a_control_size', default=50, type=int, help='Attack Control group size')\n",
    "    parser.add_argument('--b_control_size', default=50, type=int, help='Beacon Control group size')\n",
    "    parser.add_argument('--gene_size', default=100, type=int, help='States gene size')\n",
    "    parser.add_argument('--beacon_size', default=10, type=int, help='Beacon population size')\n",
    "    parser.add_argument('--victim_prob', default=1, type=float, help='Victim inside beacon or not!')\n",
    "    parser.add_argument('--max_queries', default=5, type=int, help='Maximum queries per episode')\n",
    "    parser.add_argument('--evaluate', default=False, type=bool, help='Evaluation or Not')\n",
    "\n",
    "\n",
    "    # Training Setup\n",
    "    parser.add_argument('--train', default=\"beacon\", choices=[\"attacker\", \"beacon\", \"both\"], type=str, help='Train side!')\n",
    "    \n",
    "    parser.add_argument('--attacker_type', default=\"optimal\", choices=[\"random\", \"optimal\", \"agent\"], type=str, help='Type of the attacker')\n",
    "    parser.add_argument('--beacon_type', default=\"agent\", choices=[\"random\", \"agent\", \"truth\", \"beacon_strategy\"], type=str, help='Type of the beacon')\n",
    "\n",
    "    parser.add_argument('--beacon_agent', default=\"td\", choices=[\"td\", \"ppo\"], type=str, help='Type of the beacon')\n",
    "\n",
    "    parser.add_argument('--pop_reset_freq', default=100000000, type=int, help='Reset Population Frequency (Epochs)')\n",
    "    parser.add_argument('--update_freq', default=10, type=int, help='Train Agent model frequency')\n",
    "    parser.add_argument('--plot-freq', default=10, type=int, metavar='N', help='Plot Frequencies')\n",
    "\n",
    "    parser.add_argument('--resume-attacker', default=None, type=str, metavar='PATH', help='path to latest checkpoint (default: none)')\n",
    "    parser.add_argument('--resume-beacon', default=None, type=str, metavar='PATH', help='path to latest checkpoint (default: none)')\n",
    "\n",
    "\n",
    "    parser.add_argument('--results-dir', default='./results/train', type=str, metavar='PATH', help='path to cache (default: none)')\n",
    "\n",
    "\n",
    "    # args = parser.parse_args()  # running in command line\n",
    "    args = parser.parse_args('')  # running in ipynb\n",
    "\n",
    "    args.results_dir = os.path.join(args.results_dir, \"run\"+str(len(os.listdir(args.results_dir))))\n",
    "    os.makedirs(args.results_dir)\n",
    "    os.makedirs(args.results_dir+\"/logs\")\n",
    "    os.makedirs(args.results_dir+\"/rewards\")\n",
    "    os.makedirs(args.results_dir+\"/indrewards\")\n",
    "    os.makedirs(args.results_dir+\"/actions\")\n",
    "    os.makedirs(args.results_dir+\"/pvalues\")\n",
    "\n",
    "    args.device = device\n",
    "\n",
    "    print(args)\n",
    "    return args\n",
    "\n",
    "# args = args_create()"
   ]
  },
  {
   "cell_type": "markdown",
   "metadata": {},
   "source": [
    "# Read Data"
   ]
  },
  {
   "cell_type": "code",
   "execution_count": null,
   "metadata": {},
   "outputs": [],
   "source": [
    "# CEU Beacon - it contains 164 people in total which we will divide into groups to experiment\n",
    "beacon = pd.read_csv(os.path.join(\"/mnt/kerem/CEU\", \"Beacon_164.txt\"), index_col=0, delim_whitespace=True)\n",
    "# Reference genome, i.e. the genome that has no SNPs, all major allele pairs for each position\n",
    "reference = pickle.load(open(os.path.join(\"/mnt/kerem/CEU\", \"reference.pickle\"),\"rb\"))\n",
    "# Binary representation of the beacon; 0: no SNP (i.e. no mutation) 1: SNP (i.e. mutation)\n",
    "binary = np.logical_and(beacon.values != reference, beacon.values != \"NN\").astype(int)"
   ]
  },
  {
   "cell_type": "code",
   "execution_count": 6,
   "metadata": {
    "ExecuteTime": {
     "end_time": "2024-07-22T10:53:32.854455Z",
     "start_time": "2024-07-22T10:53:29.444214Z"
    }
   },
   "outputs": [
    {
     "name": "stderr",
     "output_type": "stream",
     "text": [
      "/var/folders/kz/zmvfzltn68s0qf797jbdq6780000gn/T/ipykernel_97163/838382757.py:3: FutureWarning: The 'delim_whitespace' keyword in pd.read_csv is deprecated and will be removed in a future version. Use ``sep='\\s+'`` instead\n",
      "  maf = pd.read_csv(os.path.join(\"/Users/ardaceylan/Desktop/beacon/lr_basic_examples/data\", \"MAF.txt\"), index_col=0, delim_whitespace=True)\n"
     ]
    },
    {
     "data": {
      "text/plain": "(164, 4029840)"
     },
     "execution_count": 6,
     "metadata": {},
     "output_type": "execute_result"
    }
   ],
   "source": [
    "# Table that contains MAF (minor allele frequency) values for each position. \n",
    "maf = pd.read_csv(os.path.join(\"/mnt/kerem/CEU\", \"MAF.txt\"), index_col=0, delim_whitespace=True)\n",
    "maf.rename(columns = {'referenceAllele':'major', 'referenceAlleleFrequency':'major_freq', \n",
    "                      'otherAllele':'minor', 'otherAlleleFrequency':'minor_freq'}, inplace = True)\n",
    "maf[\"maf\"] = np.round(maf[\"maf\"].values, 3)\n",
    "# Same variable with sorted maf values\n",
    "sorted_maf = maf.sort_values(by='maf')\n",
    "# Extracting column to an array for future use\n",
    "maf_values = maf[\"maf\"].values\n",
    "\n",
    "binary = binary.T\n",
    "binary.shape #(164, 4029840)"
   ]
  },
  {
   "cell_type": "code",
   "execution_count": 7,
   "metadata": {
    "ExecuteTime": {
     "end_time": "2024-07-22T10:53:32.858072Z",
     "start_time": "2024-07-22T10:53:32.854700Z"
    }
   },
   "outputs": [
    {
     "data": {
      "text/plain": "((4029840, 164), (4029840, 1), (164, 4029840), (4029840,))"
     },
     "execution_count": 7,
     "metadata": {},
     "output_type": "execute_result"
    }
   ],
   "source": [
    "beacon.shape, reference.shape, binary.shape, maf_values.shape"
   ]
  },
  {
   "cell_type": "code",
   "execution_count": 8,
   "metadata": {
    "ExecuteTime": {
     "end_time": "2024-07-22T10:53:37.905076Z",
     "start_time": "2024-07-22T10:53:32.858971Z"
    }
   },
   "outputs": [
    {
     "data": {
      "text/plain": "(469106, 752922.737804878, 1030061)"
     },
     "execution_count": 8,
     "metadata": {},
     "output_type": "execute_result"
    }
   ],
   "source": [
    "np.min(np.sum(binary, axis=1)), np.mean(np.sum(binary, axis=1)), np.max(np.sum(binary, axis=1))"
   ]
  },
  {
   "cell_type": "code",
   "execution_count": 9,
   "metadata": {
    "ExecuteTime": {
     "end_time": "2024-07-22T10:53:37.912352Z",
     "start_time": "2024-07-22T10:53:37.903391Z"
    }
   },
   "outputs": [
    {
     "data": {
      "text/plain": "(0.15236833621185972, 0.5, 0.0)"
     },
     "execution_count": 9,
     "metadata": {},
     "output_type": "execute_result"
    }
   ],
   "source": [
    "np.mean(maf_values), np.max(maf_values), np.min(maf_values)"
   ]
  },
  {
   "cell_type": "markdown",
   "metadata": {},
   "source": [
    "# PPO"
   ]
  },
  {
   "cell_type": "code",
   "execution_count": 21,
   "metadata": {
    "ExecuteTime": {
     "end_time": "2024-07-22T10:59:06.848757Z",
     "start_time": "2024-07-22T10:58:59.726674Z"
    }
   },
   "outputs": [
    {
     "name": "stdout",
     "output_type": "stream",
     "text": [
      "The autoreload extension is already loaded. To reload it, use:\n",
      "  %reload_ext autoreload\n",
      "Namespace(data='/mnt/kerem/CEU', episodes=7000, seed=3, a_control_size=50, b_control_size=50, gene_size=100, beacon_size=10, victim_prob=1, max_queries=5, evaluate=False, train='attacker', attacker_type='optimal', beacon_type='beacon_strategy', beacon_agent='td', pop_reset_freq=100000000, update_freq=10, plot_freq=10, resume_attacker=None, resume_beacon=None, results_dir='/Users/ardaceylan/Desktop/beacons new version/Results/run33', device=device(type='cpu'))\n",
      "/Users/ardaceylan/Desktop/beacons new version/Results/run33/logs/beacon_log.csv\n",
      "/Users/ardaceylan/Desktop/beacons new version/Results/run33/logs/beacon_control_log.csv\n",
      "/Users/ardaceylan/Desktop/beacons new version/Results/run33/logs/attacker_log.csv\n",
      "/Users/ardaceylan/Desktop/beacons new version/Results/run33/logs/attacker_control_log.csv\n",
      "==================================⬇️⬇️⬇️⬇️Episode: 1⬇️⬇️⬇️⬇️==============================\n",
      "-------------------------\n",
      "============================================================================================\n",
      "Started training at (GMT) :  2024-07-22 13:58:59\n",
      "============================================================================================\n",
      "1\n",
      "--------------------------------Actions---------------------------------\n",
      "Attacker Action: Position 47 with MAF: 0.115 and SNP: 1.0 and LRT: 6.663420011033721\n",
      "Beacon Action: 0\n",
      "1\n",
      "--------------------------------Actions---------------------------------\n",
      "Attacker Action: Position 18 with MAF: 0.128 and SNP: 1.0 and LRT: 6.6338235688358225\n",
      "Beacon Action: 0\n",
      "1\n",
      "--------------------------------Actions---------------------------------\n",
      "Attacker Action: Position 90 with MAF: 0.205 and SNP: 1.0 and LRT: 6.448928950326526\n",
      "Beacon Action: 0\n",
      "1\n",
      "--------------------------------Actions---------------------------------\n",
      "Attacker Action: Position 44 with MAF: 0.239 and SNP: 1.0 and LRT: -0.00424489733272182\n",
      "Beacon Action: 1\n",
      "1\n",
      "--------------------------------Actions---------------------------------\n",
      "Attacker Action: Position 22 with MAF: 0.257 and SNP: 1.0 and LRT: -0.002627612918665534\n",
      "Beacon Action: 1\n",
      "✅✅✅ Attacker Could NOT Indentify the VICTIM ✅✅✅\n",
      "Victim: 9 \t Timestep : 5 \t Current Episode Reward : -3\n",
      "==================================⬇️⬇️⬇️⬇️Episode: 2⬇️⬇️⬇️⬇️==============================\n",
      "-------------------------\n",
      "1\n",
      "--------------------------------Actions---------------------------------\n",
      "Attacker Action: Position 66 with MAF: 0.098 and SNP: 0.0 and LRT: 0.0\n",
      "Beacon Action: 0\n",
      "1\n",
      "--------------------------------Actions---------------------------------\n",
      "Attacker Action: Position 90 with MAF: 0.205 and SNP: 1.0 and LRT: 6.448928950326526\n",
      "Beacon Action: 0\n",
      "1\n",
      "--------------------------------Actions---------------------------------\n",
      "Attacker Action: Position 44 with MAF: 0.239 and SNP: 1.0 and LRT: -0.00424489733272182\n",
      "Beacon Action: 1\n",
      "1\n",
      "--------------------------------Actions---------------------------------\n",
      "Attacker Action: Position 71 with MAF: 0.243 and SNP: 0.0 and LRT: -0.0\n",
      "Beacon Action: 1\n",
      "1\n",
      "--------------------------------Actions---------------------------------\n",
      "Attacker Action: Position 22 with MAF: 0.257 and SNP: 1.0 and LRT: -0.002627612918665534\n",
      "Beacon Action: 1\n",
      "✅✅✅ Attacker Could NOT Indentify the VICTIM ✅✅✅\n",
      "Victim: 5 \t Timestep : 10 \t Current Episode Reward : -2\n",
      "==================================⬇️⬇️⬇️⬇️Episode: 3⬇️⬇️⬇️⬇️==============================\n",
      "-------------------------\n",
      "1\n",
      "--------------------------------Actions---------------------------------\n",
      "Attacker Action: Position 14 with MAF: 0.009 and SNP: 0.0 and LRT: 0.0\n",
      "Beacon Action: 0\n",
      "1\n",
      "--------------------------------Actions---------------------------------\n",
      "Attacker Action: Position 86 with MAF: 0.075 and SNP: 0.0 and LRT: -0.0\n",
      "Beacon Action: 1\n",
      "1\n",
      "--------------------------------Actions---------------------------------\n",
      "Attacker Action: Position 66 with MAF: 0.098 and SNP: 0.0 and LRT: 0.0\n",
      "Beacon Action: 0\n",
      "1\n",
      "--------------------------------Actions---------------------------------\n",
      "Attacker Action: Position 90 with MAF: 0.205 and SNP: 1.0 and LRT: 6.448928950326526\n",
      "Beacon Action: 0\n",
      "1\n",
      "--------------------------------Actions---------------------------------\n",
      "Attacker Action: Position 96 with MAF: 0.27 and SNP: 0.0 and LRT: -0.0\n",
      "Beacon Action: 1\n",
      "✅✅✅ Attacker Could NOT Indentify the VICTIM ✅✅✅\n",
      "Victim: 0 \t Timestep : 15 \t Current Episode Reward : -3\n",
      "==================================⬇️⬇️⬇️⬇️Episode: 4⬇️⬇️⬇️⬇️==============================\n",
      "-------------------------\n",
      "1\n",
      "--------------------------------Actions---------------------------------\n",
      "Attacker Action: Position 17 with MAF: 0.025 and SNP: 0.0 and LRT: 0.0\n",
      "Beacon Action: 0\n",
      "1\n",
      "--------------------------------Actions---------------------------------\n",
      "Attacker Action: Position 31 with MAF: 0.15 and SNP: 0.0 and LRT: 0.0\n",
      "Beacon Action: 0\n",
      "1\n",
      "--------------------------------Actions---------------------------------\n",
      "Attacker Action: Position 9 with MAF: 0.167 and SNP: 0.0 and LRT: -0.0\n",
      "Beacon Action: 1\n",
      "1\n",
      "--------------------------------Actions---------------------------------\n",
      "Attacker Action: Position 76 with MAF: 0.173 and SNP: 0.0 and LRT: -0.0\n",
      "Beacon Action: 1\n",
      "1\n",
      "--------------------------------Actions---------------------------------\n",
      "Attacker Action: Position 97 with MAF: 0.173 and SNP: 0.0 and LRT: 0.0\n",
      "Beacon Action: 0\n",
      "✅✅✅ Attacker Could NOT Indentify the VICTIM ✅✅✅\n",
      "Victim: 7 \t Timestep : 20 \t Current Episode Reward : -3\n",
      "==================================⬇️⬇️⬇️⬇️Episode: 5⬇️⬇️⬇️⬇️==============================\n",
      "-------------------------\n",
      "1\n",
      "--------------------------------Actions---------------------------------\n",
      "Attacker Action: Position 61 with MAF: 0.067 and SNP: 0.0 and LRT: 0.0\n",
      "Beacon Action: 0\n",
      "1\n",
      "--------------------------------Actions---------------------------------\n",
      "Attacker Action: Position 33 with MAF: 0.133 and SNP: 0.0 and LRT: 0.0\n",
      "Beacon Action: 0\n",
      "1\n",
      "--------------------------------Actions---------------------------------\n",
      "Attacker Action: Position 89 with MAF: 0.192 and SNP: 0.0 and LRT: 0.0\n",
      "Beacon Action: 0\n",
      "1\n",
      "--------------------------------Actions---------------------------------\n",
      "Attacker Action: Position 90 with MAF: 0.205 and SNP: 1.0 and LRT: 6.448928950326526\n",
      "Beacon Action: 0\n",
      "1\n",
      "--------------------------------Actions---------------------------------\n",
      "Attacker Action: Position 10 with MAF: 0.223 and SNP: 0.0 and LRT: 0.0\n",
      "Beacon Action: 0\n",
      "✅✅✅ Attacker Could NOT Indentify the VICTIM ✅✅✅\n",
      "Victim: 1 \t Timestep : 25 \t Current Episode Reward : -5\n",
      "==================================⬇️⬇️⬇️⬇️Episode: 6⬇️⬇️⬇️⬇️==============================\n",
      "-------------------------\n",
      "1\n",
      "--------------------------------Actions---------------------------------\n",
      "Attacker Action: Position 57 with MAF: 0.033 and SNP: 0.0 and LRT: 0.0\n",
      "Beacon Action: 0\n",
      "1\n",
      "--------------------------------Actions---------------------------------\n",
      "Attacker Action: Position 49 with MAF: 0.142 and SNP: 0.0 and LRT: -0.0\n",
      "Beacon Action: 1\n",
      "1\n",
      "--------------------------------Actions---------------------------------\n",
      "Attacker Action: Position 97 with MAF: 0.173 and SNP: 0.0 and LRT: 0.0\n",
      "Beacon Action: 0\n",
      "1\n",
      "--------------------------------Actions---------------------------------\n",
      "Attacker Action: Position 89 with MAF: 0.192 and SNP: 0.0 and LRT: 0.0\n",
      "Beacon Action: 0\n",
      "1\n",
      "--------------------------------Actions---------------------------------\n",
      "Attacker Action: Position 10 with MAF: 0.223 and SNP: 0.0 and LRT: 0.0\n",
      "Beacon Action: 0\n",
      "✅✅✅ Attacker Could NOT Indentify the VICTIM ✅✅✅\n",
      "Victim: 2 \t Timestep : 30 \t Current Episode Reward : -4\n",
      "==================================⬇️⬇️⬇️⬇️Episode: 7⬇️⬇️⬇️⬇️==============================\n",
      "-------------------------\n",
      "1\n",
      "--------------------------------Actions---------------------------------\n",
      "Attacker Action: Position 61 with MAF: 0.067 and SNP: 0.0 and LRT: 0.0\n",
      "Beacon Action: 0\n",
      "1\n",
      "--------------------------------Actions---------------------------------\n",
      "Attacker Action: Position 33 with MAF: 0.133 and SNP: 0.0 and LRT: 0.0\n",
      "Beacon Action: 0\n",
      "1\n",
      "--------------------------------Actions---------------------------------\n",
      "Attacker Action: Position 89 with MAF: 0.192 and SNP: 0.0 and LRT: 0.0\n",
      "Beacon Action: 0\n",
      "1\n",
      "--------------------------------Actions---------------------------------\n",
      "Attacker Action: Position 90 with MAF: 0.205 and SNP: 1.0 and LRT: 6.448928950326526\n",
      "Beacon Action: 0\n",
      "1\n",
      "--------------------------------Actions---------------------------------\n",
      "Attacker Action: Position 10 with MAF: 0.223 and SNP: 0.0 and LRT: 0.0\n",
      "Beacon Action: 0\n",
      "✅✅✅ Attacker Could NOT Indentify the VICTIM ✅✅✅\n",
      "Victim: 1 \t Timestep : 35 \t Current Episode Reward : -5\n",
      "==================================⬇️⬇️⬇️⬇️Episode: 8⬇️⬇️⬇️⬇️==============================\n",
      "-------------------------\n",
      "1\n",
      "--------------------------------Actions---------------------------------\n",
      "Attacker Action: Position 66 with MAF: 0.098 and SNP: 0.0 and LRT: 0.0\n",
      "Beacon Action: 0\n"
     ]
    },
    {
     "ename": "KeyboardInterrupt",
     "evalue": "",
     "output_type": "error",
     "traceback": [
      "\u001B[0;31m---------------------------------------------------------------------------\u001B[0m",
      "\u001B[0;31mKeyboardInterrupt\u001B[0m                         Traceback (most recent call last)",
      "Cell \u001B[0;32mIn[21], line 92\u001B[0m\n\u001B[1;32m     87\u001B[0m         train_both(args, env, beacon_agent, attacker_agent)\n\u001B[1;32m     90\u001B[0m \u001B[38;5;28;01mif\u001B[39;00m \u001B[38;5;18m__name__\u001B[39m \u001B[38;5;241m==\u001B[39m \u001B[38;5;124m'\u001B[39m\u001B[38;5;124m__main__\u001B[39m\u001B[38;5;124m'\u001B[39m:\n\u001B[1;32m     91\u001B[0m     \u001B[38;5;66;03m# with open(args.results_dir + '/output.txt', 'w') as sys.stdout:\u001B[39;00m\n\u001B[0;32m---> 92\u001B[0m     \u001B[43mmain\u001B[49m\u001B[43m(\u001B[49m\u001B[43m)\u001B[49m\n",
      "Cell \u001B[0;32mIn[21], line 56\u001B[0m, in \u001B[0;36mmain\u001B[0;34m()\u001B[0m\n\u001B[1;32m     53\u001B[0m     lr_critic \u001B[38;5;241m=\u001B[39m \u001B[38;5;241m0.001\u001B[39m        \u001B[38;5;66;03m# learning rate for critic network\u001B[39;00m\n\u001B[1;32m     55\u001B[0m     attacker_agent \u001B[38;5;241m=\u001B[39m PPO(attacker_state_dim, attacker_action_dim, lr_actor, lr_critic, gamma, K_epochs, eps_clip, \u001B[38;5;28;01mFalse\u001B[39;00m, \u001B[38;5;28;01mNone\u001B[39;00m)\n\u001B[0;32m---> 56\u001B[0m     \u001B[43mtrain_attacker\u001B[49m\u001B[43m(\u001B[49m\u001B[43margs\u001B[49m\u001B[43m,\u001B[49m\u001B[43m \u001B[49m\u001B[43menv\u001B[49m\u001B[43m,\u001B[49m\u001B[43m \u001B[49m\u001B[43mattacker_agent\u001B[49m\u001B[43m)\u001B[49m\n\u001B[1;32m     58\u001B[0m \u001B[38;5;28;01melse\u001B[39;00m:\n\u001B[1;32m     59\u001B[0m     \u001B[38;5;66;03m################ PPO hyperparameters ################\u001B[39;00m\n\u001B[1;32m     60\u001B[0m     K_epochs \u001B[38;5;241m=\u001B[39m \u001B[38;5;241m300\u001B[39m         \u001B[38;5;66;03m# update policy for K epochs\u001B[39;00m\n",
      "File \u001B[0;32m~/Desktop/beaconsgit/engine.py:122\u001B[0m, in \u001B[0;36mtrain_attacker\u001B[0;34m(args, env, ppo_agent)\u001B[0m\n\u001B[1;32m    120\u001B[0m current_ep_reward \u001B[38;5;241m=\u001B[39m \u001B[38;5;241m0\u001B[39m\n\u001B[1;32m    121\u001B[0m \u001B[38;5;28;01mfor\u001B[39;00m t \u001B[38;5;129;01min\u001B[39;00m \u001B[38;5;28mrange\u001B[39m(\u001B[38;5;241m1\u001B[39m, args\u001B[38;5;241m.\u001B[39mmax_queries\u001B[38;5;241m+\u001B[39m\u001B[38;5;241m1\u001B[39m):\n\u001B[0;32m--> 122\u001B[0m     _, rewards, done, _ \u001B[38;5;241m=\u001B[39m \u001B[43menv\u001B[49m\u001B[38;5;241;43m.\u001B[39;49m\u001B[43mstep\u001B[49m\u001B[43m(\u001B[49m\u001B[43mattacker_agent\u001B[49m\u001B[38;5;241;43m=\u001B[39;49m\u001B[43mppo_agent\u001B[49m\u001B[43m)\u001B[49m\n\u001B[1;32m    123\u001B[0m     \u001B[38;5;66;03m# print(rewards)\u001B[39;00m\n\u001B[1;32m    124\u001B[0m     attacker_reward \u001B[38;5;241m=\u001B[39m rewards[\u001B[38;5;241m1\u001B[39m]\n",
      "File \u001B[0;32m~/Desktop/beaconsgit/env.py:190\u001B[0m, in \u001B[0;36mEnv.step\u001B[0;34m(self, beacon_agent, attacker_agent)\u001B[0m\n\u001B[1;32m    187\u001B[0m log_env(info\u001B[38;5;241m=\u001B[39m\u001B[38;5;28mself\u001B[39m\u001B[38;5;241m.\u001B[39mbeacon\u001B[38;5;241m.\u001B[39mcontrol_info, episode\u001B[38;5;241m=\u001B[39m\u001B[38;5;28mself\u001B[39m\u001B[38;5;241m.\u001B[39mepisode, step\u001B[38;5;241m=\u001B[39m\u001B[38;5;28mself\u001B[39m\u001B[38;5;241m.\u001B[39mcurrent_step, log_env_name\u001B[38;5;241m=\u001B[39m\u001B[38;5;28mself\u001B[39m\u001B[38;5;241m.\u001B[39mlog_beacon_control)\n\u001B[1;32m    189\u001B[0m log_victim(info\u001B[38;5;241m=\u001B[39m\u001B[38;5;28mself\u001B[39m\u001B[38;5;241m.\u001B[39mattacker\u001B[38;5;241m.\u001B[39mvictim_info, episode\u001B[38;5;241m=\u001B[39m\u001B[38;5;28mself\u001B[39m\u001B[38;5;241m.\u001B[39mepisode, step\u001B[38;5;241m=\u001B[39m\u001B[38;5;28mself\u001B[39m\u001B[38;5;241m.\u001B[39mcurrent_step, log_env_name\u001B[38;5;241m=\u001B[39m\u001B[38;5;28mself\u001B[39m\u001B[38;5;241m.\u001B[39mlog_attacker)\n\u001B[0;32m--> 190\u001B[0m \u001B[43mlog_env\u001B[49m\u001B[43m(\u001B[49m\u001B[43minfo\u001B[49m\u001B[38;5;241;43m=\u001B[39;49m\u001B[38;5;28;43mself\u001B[39;49m\u001B[38;5;241;43m.\u001B[39;49m\u001B[43mattacker\u001B[49m\u001B[38;5;241;43m.\u001B[39;49m\u001B[43mcontrol_info\u001B[49m\u001B[43m,\u001B[49m\u001B[43m \u001B[49m\u001B[43mepisode\u001B[49m\u001B[38;5;241;43m=\u001B[39;49m\u001B[38;5;28;43mself\u001B[39;49m\u001B[38;5;241;43m.\u001B[39;49m\u001B[43mepisode\u001B[49m\u001B[43m,\u001B[49m\u001B[43m \u001B[49m\u001B[43mstep\u001B[49m\u001B[38;5;241;43m=\u001B[39;49m\u001B[38;5;28;43mself\u001B[39;49m\u001B[38;5;241;43m.\u001B[39;49m\u001B[43mcurrent_step\u001B[49m\u001B[43m,\u001B[49m\u001B[43m \u001B[49m\u001B[43mlog_env_name\u001B[49m\u001B[38;5;241;43m=\u001B[39;49m\u001B[38;5;28;43mself\u001B[39;49m\u001B[38;5;241;43m.\u001B[39;49m\u001B[43mlog_attacker_control\u001B[49m\u001B[43m)\u001B[49m\n\u001B[1;32m    193\u001B[0m \u001B[38;5;28;01mif\u001B[39;00m done:\n\u001B[1;32m    194\u001B[0m     \u001B[38;5;28mself\u001B[39m\u001B[38;5;241m.\u001B[39mbeacon\u001B[38;5;241m.\u001B[39mget_state(\u001B[38;5;28mself\u001B[39m\u001B[38;5;241m.\u001B[39mattacker_action)\n",
      "File \u001B[0;32m~/Desktop/beaconsgit/utils.py:102\u001B[0m, in \u001B[0;36mlog_env\u001B[0;34m(info, episode, step, log_env_name)\u001B[0m\n\u001B[1;32m    100\u001B[0m \u001B[38;5;28;01mfor\u001B[39;00m beacon_idx, beacon_data \u001B[38;5;129;01min\u001B[39;00m \u001B[38;5;28menumerate\u001B[39m(info):\n\u001B[1;32m    101\u001B[0m     \u001B[38;5;28;01mfor\u001B[39;00m gene_idx, gene_data \u001B[38;5;129;01min\u001B[39;00m \u001B[38;5;28menumerate\u001B[39m(beacon_data):\n\u001B[0;32m--> 102\u001B[0m         snp, maf, res, current, lrts \u001B[38;5;241m=\u001B[39m gene_data\n\u001B[1;32m    103\u001B[0m         log_env_writer\u001B[38;5;241m.\u001B[39mwriterow([episode, step, beacon_idx, gene_idx, snp\u001B[38;5;241m.\u001B[39mdetach()\u001B[38;5;241m.\u001B[39mcpu()\u001B[38;5;241m.\u001B[39mnumpy(), maf\u001B[38;5;241m.\u001B[39mdetach()\u001B[38;5;241m.\u001B[39mcpu()\u001B[38;5;241m.\u001B[39mnumpy(), res\u001B[38;5;241m.\u001B[39mdetach()\u001B[38;5;241m.\u001B[39mcpu()\u001B[38;5;241m.\u001B[39mnumpy(), lrts\u001B[38;5;241m.\u001B[39mdetach()\u001B[38;5;241m.\u001B[39mcpu()\u001B[38;5;241m.\u001B[39mnumpy()])\n\u001B[1;32m    104\u001B[0m log_env_writer\u001B[38;5;241m.\u001B[39mwriterow([\u001B[38;5;124m\"\u001B[39m\u001B[38;5;124m--------------------------------------------------------------\u001B[39m\u001B[38;5;124m\"\u001B[39m])\n",
      "File \u001B[0;32m/Library/Frameworks/Python.framework/Versions/3.10/lib/python3.10/site-packages/torch/_tensor.py:1000\u001B[0m, in \u001B[0;36mTensor.__iter__\u001B[0;34m(self)\u001B[0m\n\u001B[1;32m    991\u001B[0m \u001B[38;5;28;01mif\u001B[39;00m torch\u001B[38;5;241m.\u001B[39m_C\u001B[38;5;241m.\u001B[39m_get_tracing_state():\n\u001B[1;32m    992\u001B[0m     warnings\u001B[38;5;241m.\u001B[39mwarn(\n\u001B[1;32m    993\u001B[0m         \u001B[38;5;124m\"\u001B[39m\u001B[38;5;124mIterating over a tensor might cause the trace to be incorrect. \u001B[39m\u001B[38;5;124m\"\u001B[39m\n\u001B[1;32m    994\u001B[0m         \u001B[38;5;124m\"\u001B[39m\u001B[38;5;124mPassing a tensor of different shape won\u001B[39m\u001B[38;5;124m'\u001B[39m\u001B[38;5;124mt change the number of \u001B[39m\u001B[38;5;124m\"\u001B[39m\n\u001B[0;32m   (...)\u001B[0m\n\u001B[1;32m    998\u001B[0m         stacklevel\u001B[38;5;241m=\u001B[39m\u001B[38;5;241m2\u001B[39m,\n\u001B[1;32m    999\u001B[0m     )\n\u001B[0;32m-> 1000\u001B[0m \u001B[38;5;28;01mreturn\u001B[39;00m \u001B[38;5;28miter\u001B[39m(\u001B[38;5;28;43mself\u001B[39;49m\u001B[38;5;241;43m.\u001B[39;49m\u001B[43munbind\u001B[49m\u001B[43m(\u001B[49m\u001B[38;5;241;43m0\u001B[39;49m\u001B[43m)\u001B[49m)\n",
      "\u001B[0;31mKeyboardInterrupt\u001B[0m: "
     ]
    }
   ],
   "source": [
    "%load_ext autoreload\n",
    "%autoreload 2\n",
    "\n",
    "import sys\n",
    "from env import Env\n",
    "from ppo import PPO\n",
    "from ddpg import DDPG\n",
    "from td import TD3\n",
    "from engine import train_beacon, train_attacker, train_both, train_TD_beacon\n",
    "\n",
    "args = args_create()\n",
    "def main():\n",
    "    env = Env(args, beacon, maf_values, binary)\n",
    "    \n",
    "    if args.train == \"beacon\":\n",
    "        ################ PPO hyperparameters ################\n",
    "        if args.resume_attacker:\n",
    "            attacker_agent = PPO(400, 10, lr_actor, lr_critic, gamma, K_epochs, eps_clip, False, None)\n",
    "            attacker_agent.load(args.resume_attacker)\n",
    "\n",
    "\n",
    "        if args.beacon_agent == \"td\":\n",
    "            state_dim = 9\n",
    "            action_dim = 1  \n",
    "            beacon_agent = TD3(state_dim, action_dim, max_action=1)\n",
    "            train_TD_beacon(args, env, beacon_agent)\n",
    "\n",
    "        elif args.beacon_agent == \"ppo\":\n",
    "            K_epochs = 300         # update policy for K epochs\n",
    "            eps_clip = 0.2           # clip parameter for PPO\n",
    "            gamma = 0.99                # discount factor\n",
    "\n",
    "            lr_actor = 0.001       # learning rate for actor network\n",
    "            lr_critic = 0.001        # learning rate for critic network\n",
    "\n",
    "            beacon_agent = PPO(state_dim, action_dim, lr_actor, lr_critic, gamma, K_epochs, eps_clip, False, None)\n",
    "            train_beacon(args, env, beacon_agent)\n",
    "\n",
    "        else:\n",
    "            raise NotImplemented\n",
    "            \n",
    "            \n",
    "    elif args.train == \"attacker\":\n",
    "        attacker_state_dim = 400\n",
    "        attacker_action_dim = 10\n",
    "\n",
    "        ################ PPO hyperparameters ################\n",
    "        K_epochs = 300         # update policy for K epochs\n",
    "        eps_clip = 0.2           # clip parameter for PPO\n",
    "        gamma = 0.99                # discount factor\n",
    "\n",
    "        lr_actor = 0.001       # learning rate for actor network\n",
    "        lr_critic = 0.001        # learning rate for critic network\n",
    "\n",
    "        attacker_agent = PPO(attacker_state_dim, attacker_action_dim, lr_actor, lr_critic, gamma, K_epochs, eps_clip, False, None)\n",
    "        train_attacker(args, env, attacker_agent)\n",
    "\n",
    "    else:\n",
    "        ################ PPO hyperparameters ################\n",
    "        K_epochs = 300         # update policy for K epochs\n",
    "        eps_clip = 0.2           # clip parameter for PPO\n",
    "        gamma = 0.99                # discount factor\n",
    "\n",
    "        lr_actor = 0.0001       # learning rate for actor network\n",
    "        lr_critic = 0.0001        # learning rate for critic network\n",
    "\n",
    "        action_std = 0.4\n",
    "\n",
    "        state_dim = 9\n",
    "        action_dim = 1\n",
    "\n",
    "        attacker_state_dim = 400\n",
    "        attacker_action_dim = 10\n",
    "\n",
    "        # initialize a PPO agent\n",
    "        # beacon_agent = DDPG(state_dim, action_dim, )\n",
    "        beacon_agent = TD3(state_dim, action_dim, max_action=1)\n",
    "        # beacon_agent = PPO(state_dim, action_dim, lr_actor, lr_critic, gamma, K_epochs, eps_clip, False, None)\n",
    "        attacker_agent = PPO(attacker_state_dim, attacker_action_dim, lr_actor, lr_critic, gamma, K_epochs, eps_clip, False, None)\n",
    "\n",
    "        if args.resume_attacker:\n",
    "            attacker_agent.load(args.resume_attacker)\n",
    "\n",
    "        if args.resume_beacon:\n",
    "            beacon_agent.load(args.resume_beacon)\n",
    "            \n",
    "        train_both(args, env, beacon_agent, attacker_agent)\n",
    "\n",
    "\n",
    "if __name__ == '__main__':\n",
    "    # with open(args.results_dir + '/output.txt', 'w') as sys.stdout:\n",
    "    main()"
   ]
  },
  {
   "cell_type": "markdown",
   "metadata": {},
   "source": []
  },
  {
   "cell_type": "code",
   "execution_count": 17,
   "metadata": {},
   "outputs": [
    {
     "data": {
      "image/png": "[encoded data removed]",
      "text/plain": [
       "<Figure size 640x480 with 1 Axes>"
      ]
     },
     "metadata": {},
     "output_type": "display_data"
    }
   ],
   "source": [
    "import torch\n",
    "from matplotlib import pyplot as plt\n",
    "\n",
    "lr_list = []\n",
    "model = [torch.nn.Parameter(torch.randn(2, 2, requires_grad=True))]\n",
    "\n",
    "# Initial learning rate\n",
    "LR = 0.001\n",
    "optimizer = torch.optim.Adam(model, lr=LR)\n",
    "\n",
    "# Define the CyclicLR scheduler\n",
    "max_lr = 0.01\n",
    "min_lr = 0.000001\n",
    "scheduler = torch.optim.lr_scheduler.CyclicLR(\n",
    "    optimizer, base_lr=0.00001, max_lr=0.01, \n",
    "    cycle_momentum=False, mode='triangular2', step_size_up=5, step_size_down=5\n",
    ")\n",
    "\n",
    "# Simulate training over multiple epochs\n",
    "for epoch in range(1, 5):\n",
    "    data_size = 200\n",
    "    for i in range(data_size):\n",
    "        optimizer.zero_grad()\n",
    "        # Simulate a step (e.g., loss.backward() and optimizer.step())\n",
    "        optimizer.step()\n",
    "        \n",
    "        # Record the current learning rate\n",
    "        lr_list.append(optimizer.state_dict()['param_groups'][0]['lr'])\n",
    "        \n",
    "        # Step the scheduler\n",
    "        scheduler.step()\n",
    "\n",
    "# Plot the learning rate schedule\n",
    "plt.plot(range(len(lr_list)), lr_list, color='r')\n",
    "plt.xlabel('Iterations')\n",
    "plt.ylabel('Learning Rate')\n",
    "plt.title('CyclicLR Schedule')\n",
    "plt.show()\n"
   ]
  },
  {
   "cell_type": "code",
   "execution_count": 12,
   "metadata": {
    "collapsed": false
   },
   "outputs": [
    {
     "name": "stdout",
     "output_type": "stream",
     "text": [
      "tensor(-0.3652)\n"
     ]
    }
   ],
   "source": [
    "genome = torch.as_tensor(1)\n",
    "maf =   torch.as_tensor(0.1790)\n",
    "response =  torch.as_tensor(1)\n",
    "\n",
    "\n",
    "DN_i = (1 - maf).pow(2 * 3) \n",
    "DN_i_1 = (1 - maf).pow(2 * 3 - 2)\n",
    "\n",
    "# Genome == 1\n",
    "log1 = torch.log(DN_i) - torch.log(0.001 * DN_i_1)\n",
    "log2 = torch.log((0.001 * DN_i_1 * (1 - DN_i))) - torch.log(DN_i * (1 - 0.001 * DN_i_1))\n",
    "\n",
    "# Genome == 0\n",
    "log3 = torch.log(DN_i) - torch.log((1 - 0.001) * DN_i_1)\n",
    "log4 = torch.log((1 - 0.001) * DN_i_1 * (1 - DN_i)) - torch.log(DN_i * (1 - DN_i_1 * (1 - 0.001)))\n",
    "\n",
    "x_hat_i = (genome * response) + ((1 - genome) * (1 - response))\n",
    "lrt = (log1 + log2 * x_hat_i)* genome + (log3 + log4 * x_hat_i) * (1 - genome)\n",
    "        # print(\"lrts, lrts.size()\", lrts, lrts.size())\n",
    "print(lrt)"
   ]
  },
  {
   "cell_type": "code",
   "execution_count": 13,
   "metadata": {},
   "outputs": [
    {
     "data": {
      "text/plain": [
       "0.1669"
      ]
     },
     "execution_count": 13,
     "metadata": {},
     "output_type": "execute_result"
    }
   ],
   "source": [
    "0.0991 + 0.0678"
   ]
  },
  {
   "cell_type": "code",
   "execution_count": null,
   "metadata": {},
   "outputs": [],
   "source": []
  }
 ],
 "metadata": {
  "kernelspec": {
   "display_name": "Python 3",
   "language": "python",
   "name": "python3"
  },
  "language_info": {
   "codemirror_mode": {
    "name": "ipython",
    "version": 3
   },
   "file_extension": ".py",
   "mimetype": "text/x-python",
   "name": "python",
   "nbconvert_exporter": "python",
   "pygments_lexer": "ipython3",
   "version": "3.12.1"
  }
 },
 "nbformat": 4,
 "nbformat_minor": 2
}
