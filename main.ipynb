{
 "cells": [
  {
   "cell_type": "code",
   "execution_count": 1,
   "metadata": {
    "ExecuteTime": {
     "end_time": "2024-04-20T20:01:01.645850Z",
     "start_time": "2024-04-20T20:01:00.852828Z"
    }
   },
   "outputs": [],
   "source": [
    "import pandas as pd\n",
    "import numpy as np\n",
    "import pickle\n",
    "import argparse\n",
    "import os\n",
    "import random\n",
    "\n",
    "import torch"
   ]
  },
  {
   "cell_type": "code",
   "execution_count": 2,
   "metadata": {},
   "outputs": [],
   "source": [
    "# def reproducibility(seed: int):\n",
    "#     os.environ['PYTHONHASHSEED'] = str(seed)\n",
    "#     torch.manual_seed(seed)\n",
    "#     torch.backends.cudnn.deterministic = True\n",
    "#     torch.backends.cudnn.benchmark = False\n",
    "#     random.seed(seed)\n",
    "#     np.random.seed(seed)\n",
    "#     if torch.cuda.is_available():\n",
    "#         torch.manual_seed(seed)\n",
    "#         torch.cuda.manual_seed_all(seed)\n",
    "#         torch.cuda.manual_seed(seed)\n",
    "# reproducibility(3)"
   ]
  },
  {
   "cell_type": "code",
   "execution_count": 3,
   "metadata": {
    "ExecuteTime": {
     "end_time": "2024-04-20T20:01:05.075739Z",
     "start_time": "2024-04-20T20:01:05.031921Z"
    }
   },
   "outputs": [
    {
     "name": "stdout",
     "output_type": "stream",
     "text": [
      "Device set to : NVIDIA TITAN RTX\n"
     ]
    }
   ],
   "source": [
    "# set device to cpu or cuda\n",
    "device = torch.device('cpu')\n",
    "\n",
    "if(torch.cuda.is_available()):\n",
    "    device = torch.device('cuda:1')\n",
    "    torch.cuda.empty_cache()\n",
    "    print(\"Device set to : \" + str(torch.cuda.get_device_name(device)))\n",
    "else:\n",
    "    print(\"Device set to : cpu\")"
   ]
  },
  {
   "cell_type": "markdown",
   "metadata": {},
   "source": [
    "# Arguments"
   ]
  },
  {
   "cell_type": "code",
   "execution_count": 4,
   "metadata": {
    "ExecuteTime": {
     "end_time": "2024-04-20T22:14:43.433833Z",
     "start_time": "2024-04-20T22:14:43.394925Z"
    }
   },
   "outputs": [
    {
     "name": "stdout",
     "output_type": "stream",
     "text": [
      "Namespace(data='/mnt/kerem/CEU', epochs=64, episodes=1000, lr=0.005, wd=0.0001, seed=3, model_name='PPO', gamma=0.99, latent1=256, latent2=256, control_size=100, gene_size=100, beacon_size=60, victim_prob=1, max_queries=20, attacker_type='optimal', pop_reset_freq=10, update_freq=5, plot_freq=5, val_freq=10, state_dim=(4,), n_actions=1, resume='', save_dir='./results', results_dir='./results', device=device(type='cuda', index=1))\n"
     ]
    }
   ],
   "source": [
    "# @title Arguments\n",
    "parser = argparse.ArgumentParser(description='Actor Critic')\n",
    "\n",
    "parser.add_argument('--data', default=\"/mnt/kerem/CEU\", type=str, help='Dataset Path')\n",
    "parser.add_argument('--epochs', default=64, type=int, metavar='N', help='Number of epochs for training agent.')\n",
    "parser.add_argument('--episodes', default=1000, type=int, metavar='N', help='Number of episodes for training agent.')\n",
    "parser.add_argument('--lr', '--learning-rate', default=0.005, type=float, metavar='LR', help='initial learning rate', dest='lr')\n",
    "parser.add_argument('--wd', default=0.0001, type=float, help='Weight decay for training optimizer')\n",
    "parser.add_argument('--seed', default=3, type=int, help='Seed for reproducibility')\n",
    "parser.add_argument('--model-name', default=\"PPO\", type=str, help='Model name for saving model.')\n",
    "parser.add_argument('--gamma', default=0.99, type=float, metavar='N', help='The discount factor as mentioned in the previous section')\n",
    "\n",
    "# Model\n",
    "parser.add_argument(\"--latent1\", default=256, required=False, help=\"Latent Space Size for first layer of network.\")\n",
    "parser.add_argument(\"--latent2\", default=256, required=False, help=\"Latent Space Size for second layer of network.\")\n",
    "\n",
    "# Env Properties\n",
    "parser.add_argument('--control_size', default=100, type=int, help='Beacon and Attacker Control group size')\n",
    "parser.add_argument('--gene_size', default=100, type=int, help='States gene size')\n",
    "parser.add_argument('--beacon_size', default=60, type=int, help='Beacon population size')\n",
    "parser.add_argument('--victim_prob', default=1, type=float, help='Victim inside beacon or not!')\n",
    "parser.add_argument('--max_queries', default=20, type=int, help='Maximum queries per episode')\n",
    "parser.add_argument('--attacker_type', default=\"optimal\", choices=[\"random\", \"optimal\", \"agent\"], type=str, help='Type of the attacker')\n",
    "\n",
    "\n",
    "parser.add_argument('--pop_reset_freq', default=10, type=int, help='Reset Population Frequency (Epochs)')\n",
    "parser.add_argument('--update_freq', default=5, type=int, help='Train Agent model frequency')\n",
    "parser.add_argument('--plot-freq', default=5, type=int, metavar='N', help='Plot Frequencies')\n",
    "parser.add_argument('--val-freq', default=10, type=int, metavar='N', help='Validation frequencies')\n",
    "\n",
    "\n",
    "parser.add_argument(\"--state_dim\", default=(4,), required=False, help=\"State Dimension\")\n",
    "parser.add_argument(\"--n-actions\", default=1, required=False, help=\"Actions Count for each state\")\n",
    "\n",
    "\n",
    "# utils\n",
    "parser.add_argument('--resume', default=\"\", type=str, metavar='PATH', help='path to latest checkpoint (default: none)')\n",
    "parser.add_argument('--save-dir', default='./results', type=str, metavar='PATH', help='path to cache (default: none)')\n",
    "\n",
    "# args = parser.parse_args()  # running in command line\n",
    "args = parser.parse_args('')  # running in ipynb\n",
    "\n",
    "# set command line arguments here when running in ipynb\n",
    "if args.save_dir == '':\n",
    "    args.save_dir = \"./\"\n",
    "\n",
    "args.results_dir = args.save_dir\n",
    "\n",
    "if not os.path.exists(args.results_dir):\n",
    "      os.makedirs(args.results_dir)\n",
    "\n",
    "args.device = device\n",
    "\n",
    "print(args)"
   ]
  },
  {
   "cell_type": "markdown",
   "metadata": {},
   "source": [
    "# Read Data"
   ]
  },
  {
   "cell_type": "code",
   "execution_count": 5,
   "metadata": {
    "ExecuteTime": {
     "end_time": "2024-04-20T22:15:53.057541Z",
     "start_time": "2024-04-20T22:14:46.026100Z"
    }
   },
   "outputs": [],
   "source": [
    "# CEU Beacon - it contains 164 people in total which we will divide into groups to experiment\n",
    "beacon = pd.read_csv(os.path.join(args.data, \"Beacon_164.txt\"), index_col=0, delim_whitespace=True)\n",
    "# Reference genome, i.e. the genome that has no SNPs, all major allele pairs for each position\n",
    "reference = pickle.load(open(os.path.join(args.data, \"reference.pickle\"),\"rb\"))\n",
    "# Binary representation of the beacon; 0: no SNP (i.e. no mutation) 1: SNP (i.e. mutation)\n",
    "binary = np.logical_and(beacon.values != reference, beacon.values != \"NN\").astype(int)"
   ]
  },
  {
   "cell_type": "code",
   "execution_count": 6,
   "metadata": {
    "ExecuteTime": {
     "end_time": "2024-04-20T20:55:59.234801Z",
     "start_time": "2024-04-20T20:55:54.228154Z"
    }
   },
   "outputs": [],
   "source": [
    "# Table that contains MAF (minor allele frequency) values for each position. \n",
    "maf = pd.read_csv(os.path.join(args.data, \"MAF.txt\"), index_col=0, delim_whitespace=True)\n",
    "maf.rename(columns = {'referenceAllele':'major', 'referenceAlleleFrequency':'major_freq', \n",
    "                      'otherAllele':'minor', 'otherAlleleFrequency':'minor_freq'}, inplace = True)\n",
    "maf[\"maf\"] = np.round(maf[\"maf\"].values, 3)\n",
    "# Same variable with sorted maf values\n",
    "sorted_maf = maf.sort_values(by='maf')\n",
    "# Extracting column to an array for future use\n",
    "maf_values = maf[\"maf\"].values"
   ]
  },
  {
   "cell_type": "code",
   "execution_count": 7,
   "metadata": {
    "ExecuteTime": {
     "end_time": "2024-04-20T22:15:53.086137Z",
     "start_time": "2024-04-20T22:15:53.056077Z"
    }
   },
   "outputs": [
    {
     "data": {
      "text/plain": [
       "((4029840, 164), (4029840, 1), (4029840, 164), (4029840,))"
      ]
     },
     "execution_count": 7,
     "metadata": {},
     "output_type": "execute_result"
    }
   ],
   "source": [
    "beacon.shape, reference.shape, binary.shape, maf_values.shape"
   ]
  },
  {
   "cell_type": "markdown",
   "metadata": {},
   "source": [
    "# PPO"
   ]
  },
  {
   "cell_type": "code",
   "execution_count": 8,
   "metadata": {
    "ExecuteTime": {
     "end_time": "2024-04-20T22:16:14.506866Z",
     "start_time": "2024-04-20T22:16:14.438616Z"
    }
   },
   "outputs": [],
   "source": [
    "has_continuous_action_space = True                \n",
    "\n",
    "action_std = 0.3             # starting std for action distribution (Multivariate Normal)\n",
    "action_std_decay_rate = 0.0025       # linearly decay action_std (action_std = action_std - action_std_decay_rate)\n",
    "min_action_std = 0.05                # minimum action_std (stop decay after action_std <= min_action_std)\n",
    "action_std_decay_freq = int(2.5e5)\n",
    "\n",
    "################ PPO hyperparameters ################\n",
    "K_epochs = 200          # update policy for K epochs\n",
    "eps_clip = 0.2              # clip parameter for PPO\n",
    "gamma = 0.99                # discount factor\n",
    "\n",
    "lr_actor = 0.0003       # learning rate for actor network\n",
    "lr_critic = 0.001       # learning rate for critic network\n",
    "\n",
    "random_seed = 0         # set random seed if required (0 = no random seed)"
   ]
  },
  {
   "cell_type": "code",
   "execution_count": 9,
   "metadata": {},
   "outputs": [
    {
     "data": {
      "image/png": "[encoded data removed]",
      "text/plain": [
       "<Figure size 800x600 with 1 Axes>"
      ]
     },
     "metadata": {},
     "output_type": "display_data"
    }
   ],
   "source": [
    "import numpy as np\n",
    "import matplotlib.pyplot as plt\n",
    "import torch\n",
    "from torch.distributions import Normal\n",
    "\n",
    "# Assuming self.actor(state) returns a torch tensor\n",
    "action_mean = torch.tensor(0)  # Mean for the univariate normal distribution\n",
    "\n",
    "action_var = torch.tensor(0.3 * 0.3)  # Variance for the univariate normal distribution\n",
    "std_dev = torch.sqrt(action_var)\n",
    "\n",
    "# Create a univariate normal distribution\n",
    "dist = Normal(action_mean, std_dev)\n",
    "\n",
    "# Generate x values\n",
    "x = np.linspace(action_mean - 3 * std_dev, action_mean + 3 * std_dev, 1000)\n",
    "\n",
    "# Calculate the probability density function\n",
    "pdf_values = dist.log_prob(torch.tensor(x)).exp().numpy()\n",
    "\n",
    "# Plot the distribution\n",
    "plt.figure(figsize=(8, 6))\n",
    "plt.plot(x, pdf_values, color='blue', label='PDF')\n",
    "plt.fill_between(x, pdf_values, color='blue', alpha=0.3)\n",
    "plt.axvline(action_mean, color='red', linestyle='--', label='Mean')\n",
    "plt.xlabel('Action')\n",
    "plt.ylabel('Probability Density')\n",
    "plt.title('Univariate Normal Distribution')\n",
    "plt.legend()\n",
    "plt.grid(True)\n",
    "plt.show()\n"
   ]
  },
  {
   "cell_type": "code",
   "execution_count": 10,
   "metadata": {
    "ExecuteTime": {
     "end_time": "2024-04-20T22:19:11.861824Z",
     "start_time": "2024-04-20T22:17:23.202239Z"
    }
   },
   "outputs": [
    {
     "name": "stdout",
     "output_type": "stream",
     "text": [
      "Device set to : NVIDIA TITAN RTX\n",
      "Victim is inside the Beacon!\n"
     ]
    }
   ],
   "source": [
    "%load_ext autoreload\n",
    "%autoreload 2\n",
    "\n",
    "import sys\n",
    "from environment import BeaconEnv\n",
    "from ppo import PPO\n",
    "from engine import train\n",
    "\n",
    "def main():\n",
    "    env = BeaconEnv(args, beacon, maf_values, binary)\n",
    "    state_dim = (args.beacon_size + args.control_size) * args.gene_size * 5\n",
    "    action_dim = env.action_space.shape[0]\n",
    "\n",
    "    # initialize a PPO agent\n",
    "    ppo_agent = PPO(state_dim, action_dim, lr_actor, lr_critic, gamma, K_epochs, eps_clip, has_continuous_action_space, action_std)\n",
    "\n",
    "    train(args, env, ppo_agent)\n",
    "\n",
    "if __name__ == '__main__':\n",
    "    # with open('file', 'w') as sys.stdout:\n",
    "    main()"
   ]
  },
  {
   "cell_type": "code",
   "execution_count": null,
   "metadata": {},
   "outputs": [],
   "source": [
    "import sys\n",
    "with open('file', 'w') as sys.stdout:\n",
    "    print('test')"
   ]
  },
  {
   "cell_type": "code",
   "execution_count": null,
   "metadata": {},
   "outputs": [],
   "source": [
    "import torch\n",
    "\n",
    "# Given tensors\n",
    "tensor1 = torch.tensor([1, 2])  # Size: [2]\n",
    "tensor2 = torch.tensor([[[1, 2, 3, 4, 5],\n",
    "                          [6, 7, 8, 9, 10],\n",
    "                          [11, 12, 13, 14, 15],\n",
    "                          [16, 17, 18, 19, 20]],\n",
    "                         [[21, 22, 23, 24, 25],\n",
    "                          [26, 27, 28, 29, 30],\n",
    "                          [31, 32, 33, 34, 35],\n",
    "                          [36, 37, 38, 39, 40]]])  # Size: [1, 2, 4, 5]\n",
    "\n"
   ]
  },
  {
   "cell_type": "code",
   "execution_count": null,
   "metadata": {},
   "outputs": [],
   "source": [
    "tensor2.size()"
   ]
  },
  {
   "cell_type": "code",
   "execution_count": null,
   "metadata": {},
   "outputs": [],
   "source": [
    "# Reshape tensor1 to [2, 1, 1, 1] for broadcasting\n",
    "reshaped_tensor1 = tensor1.view(2, 1)\n",
    "\n",
    "# Repeat tensor1 to match the size of tensor2's third dimension\n",
    "repeated_tensor1 = reshaped_tensor1.repeat(1, 4)\n",
    "\n",
    "# # Update tensor2 by replacing its third dimension with repeated_tensor1\n",
    "# tensor2[:, :, :, 4] = repeated_tensor1\n",
    "\n",
    "# print(tensor2)\n",
    "repeated_tensor1"
   ]
  },
  {
   "cell_type": "code",
   "execution_count": null,
   "metadata": {},
   "outputs": [],
   "source": [
    "tensor2[:, :, 4] = repeated_tensor1"
   ]
  },
  {
   "cell_type": "code",
   "execution_count": null,
   "metadata": {},
   "outputs": [],
   "source": [
    "tensor2"
   ]
  },
  {
   "cell_type": "code",
   "execution_count": null,
   "metadata": {
    "collapsed": false
   },
   "outputs": [],
   "source": [
    "genome = torch.as_tensor(1)\n",
    "maf =   torch.as_tensor(0.1790)\n",
    "response =  torch.as_tensor(1)\n",
    "\n",
    "\n",
    "DN_i = (1 - maf).pow(2 * 3) \n",
    "DN_i_1 = (1 - maf).pow(2 * 3 - 2)\n",
    "\n",
    "# Genome == 1\n",
    "log1 = torch.log(DN_i) - torch.log(0.001 * DN_i_1)\n",
    "log2 = torch.log((0.001 * DN_i_1 * (1 - DN_i))) - torch.log(DN_i * (1 - 0.001 * DN_i_1))\n",
    "\n",
    "# Genome == 0\n",
    "log3 = torch.log(DN_i) - torch.log((1 - 0.001) * DN_i_1)\n",
    "log4 = torch.log((1 - 0.001) * DN_i_1 * (1 - DN_i)) - torch.log(DN_i * (1 - DN_i_1 * (1 - 0.001)))\n",
    "\n",
    "x_hat_i = (genome * response) + ((1 - genome) * (1 - response))\n",
    "lrt = (log1 + log2 * x_hat_i)* genome + (log3 + log4 * x_hat_i) * (1 - genome)\n",
    "        # print(\"lrts, lrts.size()\", lrts, lrts.size())\n",
    "print(lrt)"
   ]
  },
  {
   "cell_type": "code",
   "execution_count": null,
   "metadata": {},
   "outputs": [],
   "source": [
    "0.0991 + 0.0678"
   ]
  },
  {
   "cell_type": "code",
   "execution_count": null,
   "metadata": {},
   "outputs": [],
   "source": []
  }
 ],
 "metadata": {
  "kernelspec": {
   "display_name": "Python 3",
   "language": "python",
   "name": "python3"
  },
  "language_info": {
   "codemirror_mode": {
    "name": "ipython",
    "version": 3
   },
   "file_extension": ".py",
   "mimetype": "text/x-python",
   "name": "python",
   "nbconvert_exporter": "python",
   "pygments_lexer": "ipython3",
   "version": "3.12.1"
  }
 },
 "nbformat": 4,
 "nbformat_minor": 2
}
